{
  "nbformat": 4,
  "nbformat_minor": 0,
  "metadata": {
    "colab": {
      "name": "SUM_overfitted_2.ipynb",
      "provenance": [],
      "collapsed_sections": []
    },
    "kernelspec": {
      "display_name": "Python 3",
      "language": "python",
      "name": "python3"
    },
    "language_info": {
      "codemirror_mode": {
        "name": "ipython",
        "version": 3
      },
      "file_extension": ".py",
      "mimetype": "text/x-python",
      "name": "python",
      "nbconvert_exporter": "python",
      "pygments_lexer": "ipython3",
      "version": "3.7.7"
    },
    "accelerator": "GPU"
  },
  "cells": [
    {
      "cell_type": "code",
      "metadata": {
        "id": "GXzCvqKSqnWY"
      },
      "source": [
        "import numpy as np\n",
        "import matplotlib.pyplot as plt\n",
        "import torch\n",
        "import random"
      ],
      "execution_count": 1,
      "outputs": []
    },
    {
      "cell_type": "code",
      "metadata": {
        "id": "Oubln6I9-xXy"
      },
      "source": [
        "# import torch\n",
        "torch.cuda.empty_cache()"
      ],
      "execution_count": 2,
      "outputs": []
    },
    {
      "cell_type": "code",
      "metadata": {
        "id": "5ZxAbJMoq9Rm",
        "colab": {
          "resources": {
            "http://localhost:8080/nbextensions/google.colab/files.js": {
              "data": "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",
              "ok": true,
              "headers": [
                [
                  "content-type",
                  "application/javascript"
                ]
              ],
              "status": 200,
              "status_text": ""
            }
          },
          "base_uri": "https://localhost:8080/",
          "height": 73
        },
        "outputId": "b7230458-04c6-43d3-a651-79a906d4df80"
      },
      "source": [
        "from google.colab import files\n",
        "uploaded = files.upload()"
      ],
      "execution_count": 6,
      "outputs": [
        {
          "output_type": "display_data",
          "data": {
            "text/html": [
              "\n",
              "     <input type=\"file\" id=\"files-47232250-d718-4e87-bc20-e412b0eaa9e5\" name=\"files[]\" multiple disabled\n",
              "        style=\"border:none\" />\n",
              "     <output id=\"result-47232250-d718-4e87-bc20-e412b0eaa9e5\">\n",
              "      Upload widget is only available when the cell has been executed in the\n",
              "      current browser session. Please rerun this cell to enable.\n",
              "      </output>\n",
              "      <script src=\"/nbextensions/google.colab/files.js\"></script> "
            ],
            "text/plain": [
              "<IPython.core.display.HTML object>"
            ]
          },
          "metadata": {
            "tags": []
          }
        },
        {
          "output_type": "stream",
          "text": [
            "Saving akshit_sum.zip to akshit_sum.zip\n"
          ],
          "name": "stdout"
        }
      ]
    },
    {
      "cell_type": "code",
      "metadata": {
        "id": "W7YroGIrsgU_",
        "colab": {
          "base_uri": "https://localhost:8080/"
        },
        "outputId": "89e0812e-889d-4dda-ab24-c10ae2bea0e9"
      },
      "source": [
        "!unzip akshit_sum.zip"
      ],
      "execution_count": 7,
      "outputs": [
        {
          "output_type": "stream",
          "text": [
            "Archive:  akshit_sum.zip\n",
            "   creating: akshit_sum/\n",
            "  inflating: akshit_sum/data0.npy    \n",
            "  inflating: akshit_sum/data1.npy    \n",
            "  inflating: akshit_sum/data2.npy    \n",
            "  inflating: akshit_sum/lab0.npy     \n",
            "  inflating: akshit_sum/lab1.npy     \n",
            "  inflating: akshit_sum/lab2.npy     \n",
            "   creating: akshit_sum/.ipynb_checkpoints/\n",
            "  inflating: akshit_sum/.ipynb_checkpoints/SUM-checkpoint.ipynb  \n"
          ],
          "name": "stdout"
        }
      ]
    },
    {
      "cell_type": "code",
      "metadata": {
        "id": "5gI7czRFqnWt"
      },
      "source": [
        "data1 = np.load('akshit_sum/data0.npy')\n",
        "data2 = np.load('akshit_sum/data1.npy')\n",
        "data3 = np.load('akshit_sum/data2.npy')\n",
        "lab1 = np.load('akshit_sum/lab0.npy')\n",
        "lab2 = np.load('akshit_sum/lab1.npy')\n",
        "lab3 = np.load('akshit_sum/lab2.npy')"
      ],
      "execution_count": 8,
      "outputs": []
    },
    {
      "cell_type": "code",
      "metadata": {
        "id": "W-PJDNOJwdo7"
      },
      "source": [
        "X = np.concatenate((data1,data2,data3))\n",
        "Y = np.concatenate((lab1,lab2,lab3))\n",
        "X = (X-0)/(255-0)\n",
        "X = np.expand_dims(X, 1)      # if numpy array\n",
        "\n",
        "train_x = X[:int(0.8*len(X))]\n",
        "val_x = X[int(0.8*len(X)):]\n",
        "\n",
        "train_y = Y[:int(0.8*len(Y))]\n",
        "val_y = Y[int(0.8*len(Y)):]\n",
        "\n",
        "train_x = torch.tensor(train_x)\n",
        "val_x = torch.tensor(val_x)\n",
        "\n",
        "train_y = torch.LongTensor(train_y)\n",
        "val_y = torch.LongTensor(val_y)"
      ],
      "execution_count": 9,
      "outputs": []
    },
    {
      "cell_type": "code",
      "metadata": {
        "colab": {
          "base_uri": "https://localhost:8080/"
        },
        "id": "D1jrQz5WyNRw",
        "outputId": "d571d89d-6f75-4eea-b76d-6d3903baca67"
      },
      "source": [
        "X.shape"
      ],
      "execution_count": 10,
      "outputs": [
        {
          "output_type": "execute_result",
          "data": {
            "text/plain": [
              "(30000, 1, 40, 168)"
            ]
          },
          "metadata": {
            "tags": []
          },
          "execution_count": 10
        }
      ]
    },
    {
      "cell_type": "code",
      "metadata": {
        "colab": {
          "base_uri": "https://localhost:8080/"
        },
        "id": "SkHUY_JwHgvI",
        "outputId": "c1b3727f-2875-445c-f696-59375a385fbc"
      },
      "source": [
        "device = torch.device(\"cuda:0\" if torch.cuda.is_available() else \"cpu\")\n",
        "print(device)"
      ],
      "execution_count": 11,
      "outputs": [
        {
          "output_type": "stream",
          "text": [
            "cuda:0\n"
          ],
          "name": "stdout"
        }
      ]
    },
    {
      "cell_type": "code",
      "metadata": {
        "id": "24XDHC1XwcIa"
      },
      "source": [
        "class SumNet(torch.nn.Module):\n",
        "    def __init__(self):\n",
        "        super(SumNet, self).__init__()\n",
        "        self.conv1 = torch.nn.Conv2d(1,2,5,1)\n",
        "        self.conv2 = torch.nn.Conv2d(2,4,3,1)\n",
        "        self.conv_bn_2 = torch.nn.BatchNorm2d(4)\n",
        "        self.conv3 = torch.nn.Conv2d(4,8,3,1)\n",
        "        self.conv4 = torch.nn.Conv2d(8,16,3,1)\n",
        "        self.conv_bn_4 = torch.nn.BatchNorm2d(16)\n",
        "        self.conv5 = torch.nn.Conv2d(16,32,3,1)\n",
        "        self.conv6 = torch.nn.Conv2d(32,64,3,1)\n",
        "        self.conv_bn_6 = torch.nn.BatchNorm2d(64)\n",
        "        self.conv7 = torch.nn.Conv2d(64,64,3,1)\n",
        "        self.conv8 = torch.nn.Conv2d(64,64,3,1)\n",
        "        self.conv_bn_8 = torch.nn.BatchNorm2d(64)\n",
        "        self.fc1 = torch.nn.Linear(1920, 512)\n",
        "        self.fc2 = torch.nn.Linear(512, 64)\n",
        "        self.fc3 = torch.nn.Linear(64, 37)\n",
        "\n",
        "\n",
        "\n",
        "    def forward(self,x):\n",
        "        x=self.conv1(x)\n",
        "        x=torch.nn.functional.relu(x)\n",
        "        x=self.conv2(x)\n",
        "        x=torch.nn.functional.relu(x)\n",
        "        x=torch.nn.functional.max_pool2d(x,kernel_size = [2,2],stride=[2,2])\n",
        "        x = self.conv_bn_2(x)\n",
        "        x=self.conv3(x)\n",
        "        x=torch.nn.functional.relu(x)\n",
        "        x=self.conv4(x)\n",
        "        x=torch.nn.functional.relu(x)\n",
        "        x=torch.nn.functional.max_pool2d(x,kernel_size = [1,2],stride=[1,2])\n",
        "        x = self.conv_bn_4(x)\n",
        "        x=self.conv5(x)\n",
        "        x=torch.nn.functional.relu(x)\n",
        "        x=self.conv6(x)\n",
        "        x=torch.nn.functional.relu(x)\n",
        "        x=torch.nn.functional.max_pool2d(x,kernel_size = [1,2],stride=[1,2])\n",
        "        x = self.conv_bn_6(x)\n",
        "        x=self.conv7(x)\n",
        "        x=torch.nn.functional.relu(x)\n",
        "        x=self.conv8(x)\n",
        "        x=torch.nn.functional.relu(x)\n",
        "        x=torch.nn.functional.max_pool2d(x,kernel_size = [1,2],stride=[1,2])\n",
        "        x = self.conv_bn_8(x)\n",
        "        x = torch.flatten(x, 1)\n",
        "        # print(\"Size\",x.shape)\n",
        "        x = self.fc1(x)\n",
        "        x = torch.nn.functional.relu(x)\n",
        "        x = self.fc2(x)\n",
        "        x = torch.nn.functional.relu(x)\n",
        "        x = self.fc3(x)\n",
        "\n",
        "        # output = F.log_softmax(x, dim=1)\n",
        "        return x"
      ],
      "execution_count": 12,
      "outputs": []
    },
    {
      "cell_type": "code",
      "metadata": {
        "colab": {
          "base_uri": "https://localhost:8080/"
        },
        "id": "P62JUhmL0ANv",
        "outputId": "ccc3f3fd-25e2-41f1-eba5-08afa02aab4e"
      },
      "source": [
        "model = SumNet()\n",
        "optimizer = torch.optim.Adam(model.parameters(), lr=0.0001)\n",
        "loss = torch.nn.CrossEntropyLoss()\n",
        "scheduler = torch.optim.lr_scheduler.ReduceLROnPlateau(optimizer, 'min',verbose=True,patience=100)\n",
        "if torch.cuda.is_available():\n",
        "    model = model.cuda()\n",
        "    loss = loss.cuda()\n",
        "    train_y = train_y.cuda()\n",
        "    train_x = train_x.cuda()\n",
        "    val_y = val_y.cuda()\n",
        "    val_x = val_x.cuda()\n",
        "print(model)"
      ],
      "execution_count": 13,
      "outputs": [
        {
          "output_type": "stream",
          "text": [
            "SumNet(\n",
            "  (conv1): Conv2d(1, 2, kernel_size=(5, 5), stride=(1, 1))\n",
            "  (conv2): Conv2d(2, 4, kernel_size=(3, 3), stride=(1, 1))\n",
            "  (conv_bn_2): BatchNorm2d(4, eps=1e-05, momentum=0.1, affine=True, track_running_stats=True)\n",
            "  (conv3): Conv2d(4, 8, kernel_size=(3, 3), stride=(1, 1))\n",
            "  (conv4): Conv2d(8, 16, kernel_size=(3, 3), stride=(1, 1))\n",
            "  (conv_bn_4): BatchNorm2d(16, eps=1e-05, momentum=0.1, affine=True, track_running_stats=True)\n",
            "  (conv5): Conv2d(16, 32, kernel_size=(3, 3), stride=(1, 1))\n",
            "  (conv6): Conv2d(32, 64, kernel_size=(3, 3), stride=(1, 1))\n",
            "  (conv_bn_6): BatchNorm2d(64, eps=1e-05, momentum=0.1, affine=True, track_running_stats=True)\n",
            "  (conv7): Conv2d(64, 64, kernel_size=(3, 3), stride=(1, 1))\n",
            "  (conv8): Conv2d(64, 64, kernel_size=(3, 3), stride=(1, 1))\n",
            "  (conv_bn_8): BatchNorm2d(64, eps=1e-05, momentum=0.1, affine=True, track_running_stats=True)\n",
            "  (fc1): Linear(in_features=1920, out_features=512, bias=True)\n",
            "  (fc2): Linear(in_features=512, out_features=64, bias=True)\n",
            "  (fc3): Linear(in_features=64, out_features=37, bias=True)\n",
            ")\n"
          ],
          "name": "stdout"
        }
      ]
    },
    {
      "cell_type": "code",
      "metadata": {
        "id": "JubYSK0ZWbVM"
      },
      "source": [
        "def get_accuracy(pred,y):\n",
        "    accu_sum=0\n",
        "    for i in range(len(y)):\n",
        "        maxi=-100000\n",
        "        maxind=-1\n",
        "        for j in range(37):\n",
        "          # print(pred[i][j])\n",
        "          if pred[i][j] >= maxi:\n",
        "              maxind = j\n",
        "              maxi=pred[i][j]\n",
        "        if(maxind==y[i]):\n",
        "            accu_sum+=1\n",
        "        \n",
        "    return accu_sum"
      ],
      "execution_count": 14,
      "outputs": []
    },
    {
      "cell_type": "code",
      "metadata": {
        "colab": {
          "base_uri": "https://localhost:8080/"
        },
        "id": "1C0RL-0l0G6k",
        "outputId": "f73e9309-e1cf-416e-a2c7-d9ee32369238"
      },
      "source": [
        "index_list = np.arange(24000)\n",
        "val_index_list = np.arange(6000)\n",
        "\n",
        "train_losses= []\n",
        "val_losses = []\n",
        "\n",
        "train_accs = []\n",
        "val_accs = []\n",
        "\n",
        "batch_size = 64\n",
        "cnt=-1\n",
        "for epochs in range(20):\n",
        "  random.shuffle(index_list)\n",
        "  for batch_no in range(int(len(train_x)/batch_size)):\n",
        "    cnt+=1\n",
        "    # print(index_list[batch_size*batch_no:batch_size*(batch_no+1)])\n",
        "    train_batch_x = train_x[index_list[batch_size*batch_no:batch_size*(batch_no+1)]] \n",
        "    train_batch_y = train_y[index_list[batch_size*batch_no:batch_size*(batch_no+1)]]\n",
        "\n",
        "    output_train = model(train_batch_x.float())\n",
        "    loss_train = loss(output_train, train_batch_y)\n",
        "    train_losses.append(loss_train.item())\n",
        "    optimizer.zero_grad()\n",
        "    loss_train.backward()\n",
        "    optimizer.step()\n",
        "\n",
        "    if(cnt%1==0):\n",
        "      random.shuffle(val_index_list)\n",
        "      val_batch_x = val_x[val_index_list[:500]]\n",
        "      val_batch_y = val_y[val_index_list[:500]]\n",
        "\n",
        "      output_val = model(val_batch_x.float())\n",
        "      loss_val = loss(output_val, val_batch_y)\n",
        "      val_losses.append(loss_val.item())\n",
        "      # scheduler.step(loss_val.item())\n",
        "    else:\n",
        "      val_losses.append(val_losses[-1])\n",
        "\n",
        "    if(cnt%10==0):\n",
        "      val_accs.append(get_accuracy(output_val.cpu().detach().numpy(),val_batch_y.cpu().detach().numpy())/500)\n",
        "      train_accs.append(get_accuracy(output_train.cpu().detach().numpy(),train_batch_y.cpu().detach().numpy())/batch_size)\n",
        "\n",
        "  for param_group in optimizer.param_groups:\n",
        "        lr = param_group['lr']\n",
        "\n",
        "  if(lr<0.0000001):\n",
        "    break\n",
        "\n",
        "  print(\"Epoch #\",epochs,\"Completed\")\n",
        "  print(train_losses[-1],val_losses[-1])"
      ],
      "execution_count": 19,
      "outputs": [
        {
          "output_type": "stream",
          "text": [
            "Epoch # 0 Completed\n",
            "3.173971652984619 3.1733059883117676\n",
            "Epoch # 1 Completed\n",
            "2.8860347270965576 2.96663498878479\n",
            "Epoch # 2 Completed\n",
            "2.7872323989868164 2.8277812004089355\n",
            "Epoch # 3 Completed\n",
            "2.529581069946289 2.7921695709228516\n",
            "Epoch # 4 Completed\n",
            "2.3111155033111572 2.7534849643707275\n",
            "Epoch # 5 Completed\n",
            "2.1001646518707275 2.9322497844696045\n",
            "Epoch # 6 Completed\n",
            "1.9514092206954956 3.0846588611602783\n",
            "Epoch # 7 Completed\n",
            "1.6629245281219482 3.3119614124298096\n",
            "Epoch # 8 Completed\n",
            "1.1755634546279907 3.5721664428710938\n",
            "Epoch # 9 Completed\n",
            "1.2049764394760132 3.729750394821167\n",
            "Epoch # 10 Completed\n",
            "0.8120219707489014 4.200859069824219\n",
            "Epoch # 11 Completed\n",
            "0.5892767906188965 4.604247093200684\n",
            "Epoch # 12 Completed\n",
            "0.6068801283836365 4.872550010681152\n",
            "Epoch # 13 Completed\n",
            "0.37541839480400085 5.052406311035156\n",
            "Epoch # 14 Completed\n",
            "0.3629991114139557 5.337663650512695\n",
            "Epoch # 15 Completed\n",
            "0.3658396005630493 6.1378021240234375\n",
            "Epoch # 16 Completed\n",
            "0.13306276500225067 6.342347145080566\n",
            "Epoch # 17 Completed\n",
            "0.13401563465595245 6.2538933753967285\n",
            "Epoch # 18 Completed\n",
            "0.05085007846355438 6.955056190490723\n",
            "Epoch # 19 Completed\n",
            "0.09627382457256317 7.123122692108154\n"
          ],
          "name": "stdout"
        }
      ]
    },
    {
      "cell_type": "code",
      "metadata": {
        "colab": {
          "base_uri": "https://localhost:8080/",
          "height": 299
        },
        "id": "Q-v8L7RPZyM-",
        "outputId": "061a45b1-6532-4085-9562-e12e8ed923c1"
      },
      "source": [
        "plt.plot(train_losses,label=\"Training Loss\")\n",
        "plt.plot(val_losses,label=\"Validation Loss\")\n",
        "plt.title(\"Loss Vs Iterations\")\n",
        "plt.legend()"
      ],
      "execution_count": 20,
      "outputs": [
        {
          "output_type": "execute_result",
          "data": {
            "text/plain": [
              "<matplotlib.legend.Legend at 0x7f3a269a96d8>"
            ]
          },
          "metadata": {
            "tags": []
          },
          "execution_count": 20
        },
        {
          "output_type": "display_data",
          "data": {
            "image/png": "[encoded data removed]",
            "text/plain": [
              "<Figure size 432x288 with 1 Axes>"
            ]
          },
          "metadata": {
            "tags": [],
            "needs_background": "light"
          }
        }
      ]
    },
    {
      "cell_type": "code",
      "metadata": {
        "colab": {
          "base_uri": "https://localhost:8080/",
          "height": 299
        },
        "id": "qRtrSSUh9lV_",
        "outputId": "7a0be732-7a5a-46b8-f5a0-71e47db53810"
      },
      "source": [
        "plt.plot(train_accs,label=\"Training Acc\")\n",
        "plt.plot(val_accs,label=\"Validation Acc\")\n",
        "plt.title(\"Accuracies Vs Iterations\")\n",
        "plt.legend()"
      ],
      "execution_count": 21,
      "outputs": [
        {
          "output_type": "execute_result",
          "data": {
            "text/plain": [
              "<matplotlib.legend.Legend at 0x7f3a1b5f5ac8>"
            ]
          },
          "metadata": {
            "tags": []
          },
          "execution_count": 21
        },
        {
          "output_type": "display_data",
          "data": {
            "image/png": "[encoded data removed]",
            "text/plain": [
              "<Figure size 432x288 with 1 Axes>"
            ]
          },
          "metadata": {
            "tags": [],
            "needs_background": "light"
          }
        }
      ]
    },
    {
      "cell_type": "code",
      "metadata": {
        "id": "xBLBEz3yZBc4"
      },
      "source": [
        "# Accuracies"
      ],
      "execution_count": 22,
      "outputs": []
    },
    {
      "cell_type": "code",
      "metadata": {
        "id": "xO0_8QiH5M_b"
      },
      "source": [
        ""
      ],
      "execution_count": 22,
      "outputs": []
    },
    {
      "cell_type": "code",
      "metadata": {
        "colab": {
          "base_uri": "https://localhost:8080/"
        },
        "id": "FbAfJaTwWBZH",
        "outputId": "c37a44c2-8f51-4842-854a-a0f5215306c9"
      },
      "source": [
        "batch_size = 500\n",
        "correct_preds=0\n",
        "for batch_no in range(int(len(train_x)/batch_size)):\n",
        "    train_batch_x = train_x[batch_size*batch_no:batch_size*(batch_no+1)] \n",
        "    train_batch_y = train_y[batch_size*batch_no:batch_size*(batch_no+1)]\n",
        "    output_train = model(train_batch_x.float())\n",
        "    correct_preds+=get_accuracy(output_train.cpu().detach().numpy(),train_batch_y.cpu().detach().numpy())\n",
        "print(\"Overall Train Accuracy: \",100*correct_preds/len(train_x))"
      ],
      "execution_count": 23,
      "outputs": [
        {
          "output_type": "stream",
          "text": [
            "Overall Train Accuracy:  99.61666666666666\n"
          ],
          "name": "stdout"
        }
      ]
    },
    {
      "cell_type": "code",
      "metadata": {
        "colab": {
          "base_uri": "https://localhost:8080/"
        },
        "id": "jf1c4C1QXapL",
        "outputId": "af49f389-f399-432d-e45f-7b37211ae7d6"
      },
      "source": [
        "batch_size = 500\n",
        "correct_preds=0\n",
        "for batch_no in range(int(len(val_x)/batch_size)):\n",
        "    val_batch_x = val_x[batch_size*batch_no:batch_size*(batch_no+1)] \n",
        "    val_batch_y = val_y[batch_size*batch_no:batch_size*(batch_no+1)]\n",
        "    output_val = model(val_batch_x.float())\n",
        "    correct_preds+=get_accuracy(output_val.cpu().detach().numpy(),val_batch_y.cpu().detach().numpy())\n",
        "print(\"Overall Validation Accuracy: \",100*correct_preds/len(val_x))"
      ],
      "execution_count": 24,
      "outputs": [
        {
          "output_type": "stream",
          "text": [
            "Overall Validation Accuracy:  9.15\n"
          ],
          "name": "stdout"
        }
      ]
    },
    {
      "cell_type": "code",
      "metadata": {
        "id": "4OFniI72ZUw1"
      },
      "source": [
        "#saving and loading the model"
      ],
      "execution_count": 25,
      "outputs": []
    },
    {
      "cell_type": "code",
      "metadata": {
        "id": "mRN-4VHxbVBI"
      },
      "source": [
        "torch.save(model,\"SumNet_inital_model_2\")"
      ],
      "execution_count": 26,
      "outputs": []
    },
    {
      "cell_type": "code",
      "metadata": {
        "colab": {
          "base_uri": "https://localhost:8080/",
          "height": 17
        },
        "id": "tXXLk6AjcN-8",
        "outputId": "52c22853-4d16-4d9c-e0da-532c8164d3b0"
      },
      "source": [
        "from google.colab import files\n",
        "files.download('SumNet_inital_model_2') "
      ],
      "execution_count": 33,
      "outputs": [
        {
          "output_type": "display_data",
          "data": {
            "application/javascript": [
              "\n",
              "    async function download(id, filename, size) {\n",
              "      if (!google.colab.kernel.accessAllowed) {\n",
              "        return;\n",
              "      }\n",
              "      const div = document.createElement('div');\n",
              "      const label = document.createElement('label');\n",
              "      label.textContent = `Downloading \"${filename}\": `;\n",
              "      div.appendChild(label);\n",
              "      const progress = document.createElement('progress');\n",
              "      progress.max = size;\n",
              "      div.appendChild(progress);\n",
              "      document.body.appendChild(div);\n",
              "\n",
              "      const buffers = [];\n",
              "      let downloaded = 0;\n",
              "\n",
              "      const channel = await google.colab.kernel.comms.open(id);\n",
              "      // Send a message to notify the kernel that we're ready.\n",
              "      channel.send({})\n",
              "\n",
              "      for await (const message of channel.messages) {\n",
              "        // Send a message to notify the kernel that we're ready.\n",
              "        channel.send({})\n",
              "        if (message.buffers) {\n",
              "          for (const buffer of message.buffers) {\n",
              "            buffers.push(buffer);\n",
              "            downloaded += buffer.byteLength;\n",
              "            progress.value = downloaded;\n",
              "          }\n",
              "        }\n",
              "      }\n",
              "      const blob = new Blob(buffers, {type: 'application/binary'});\n",
              "      const a = document.createElement('a');\n",
              "      a.href = window.URL.createObjectURL(blob);\n",
              "      a.download = filename;\n",
              "      div.appendChild(a);\n",
              "      a.click();\n",
              "      div.remove();\n",
              "    }\n",
              "  "
            ],
            "text/plain": [
              "<IPython.core.display.Javascript object>"
            ]
          },
          "metadata": {
            "tags": []
          }
        },
        {
          "output_type": "display_data",
          "data": {
            "application/javascript": [
              "download(\"download_8b806213-cb78-4fc5-a6ee-cae19c44467f\", \"SumNet_inital_model_2\", 4488565)"
            ],
            "text/plain": [
              "<IPython.core.display.Javascript object>"
            ]
          },
          "metadata": {
            "tags": []
          }
        }
      ]
    },
    {
      "cell_type": "code",
      "metadata": {
        "id": "bblHIvM2Zf45"
      },
      "source": [
        "saved_model = torch.load(\"SumNet_inital_model_2\")"
      ],
      "execution_count": 28,
      "outputs": []
    },
    {
      "cell_type": "code",
      "metadata": {
        "colab": {
          "base_uri": "https://localhost:8080/"
        },
        "id": "dVj0Y1j6ctmk",
        "outputId": "1c35903f-2728-4332-89fd-e28229f367c6"
      },
      "source": [
        "saved_model.eval()"
      ],
      "execution_count": 29,
      "outputs": [
        {
          "output_type": "execute_result",
          "data": {
            "text/plain": [
              "SumNet(\n",
              "  (conv1): Conv2d(1, 2, kernel_size=(5, 5), stride=(1, 1))\n",
              "  (conv2): Conv2d(2, 4, kernel_size=(3, 3), stride=(1, 1))\n",
              "  (conv_bn_2): BatchNorm2d(4, eps=1e-05, momentum=0.1, affine=True, track_running_stats=True)\n",
              "  (conv3): Conv2d(4, 8, kernel_size=(3, 3), stride=(1, 1))\n",
              "  (conv4): Conv2d(8, 16, kernel_size=(3, 3), stride=(1, 1))\n",
              "  (conv_bn_4): BatchNorm2d(16, eps=1e-05, momentum=0.1, affine=True, track_running_stats=True)\n",
              "  (conv5): Conv2d(16, 32, kernel_size=(3, 3), stride=(1, 1))\n",
              "  (conv6): Conv2d(32, 64, kernel_size=(3, 3), stride=(1, 1))\n",
              "  (conv_bn_6): BatchNorm2d(64, eps=1e-05, momentum=0.1, affine=True, track_running_stats=True)\n",
              "  (conv7): Conv2d(64, 64, kernel_size=(3, 3), stride=(1, 1))\n",
              "  (conv8): Conv2d(64, 64, kernel_size=(3, 3), stride=(1, 1))\n",
              "  (conv_bn_8): BatchNorm2d(64, eps=1e-05, momentum=0.1, affine=True, track_running_stats=True)\n",
              "  (fc1): Linear(in_features=1920, out_features=512, bias=True)\n",
              "  (fc2): Linear(in_features=512, out_features=64, bias=True)\n",
              "  (fc3): Linear(in_features=64, out_features=37, bias=True)\n",
              ")"
            ]
          },
          "metadata": {
            "tags": []
          },
          "execution_count": 29
        }
      ]
    },
    {
      "cell_type": "code",
      "metadata": {
        "colab": {
          "base_uri": "https://localhost:8080/"
        },
        "id": "ZcUHBigPcwBa",
        "outputId": "27f81c52-4ab1-43ff-9f63-039156e8db41"
      },
      "source": [
        "batch_size = 500\n",
        "correct_preds=0\n",
        "for batch_no in range(int(len(train_x)/batch_size)):\n",
        "    train_batch_x = train_x[batch_size*batch_no:batch_size*(batch_no+1)] \n",
        "    train_batch_y = train_y[batch_size*batch_no:batch_size*(batch_no+1)]\n",
        "    output_train = saved_model(train_batch_x.float())\n",
        "    correct_preds+=get_accuracy(output_train.cpu().detach().numpy(),train_batch_y.cpu().detach().numpy())\n",
        "print(\"Overall Train Accuracy: \",100*correct_preds/len(train_x))"
      ],
      "execution_count": 30,
      "outputs": [
        {
          "output_type": "stream",
          "text": [
            "Overall Train Accuracy:  99.6125\n"
          ],
          "name": "stdout"
        }
      ]
    },
    {
      "cell_type": "code",
      "metadata": {
        "colab": {
          "base_uri": "https://localhost:8080/"
        },
        "id": "apQYRCY6f0lG",
        "outputId": "c576a8a7-f0be-4b71-e1e2-e9dc5808248c"
      },
      "source": [
        "batch_size = 500\n",
        "correct_preds=0\n",
        "for batch_no in range(int(len(val_x)/batch_size)):\n",
        "    val_batch_x = val_x[batch_size*batch_no:batch_size*(batch_no+1)] \n",
        "    val_batch_y = val_y[batch_size*batch_no:batch_size*(batch_no+1)]\n",
        "    output_val = saved_model(val_batch_x.float())\n",
        "    correct_preds+=get_accuracy(output_val.cpu().detach().numpy(),val_batch_y.cpu().detach().numpy())\n",
        "print(\"Overall Validation Accuracy: \",100*correct_preds/len(val_x))"
      ],
      "execution_count": 31,
      "outputs": [
        {
          "output_type": "stream",
          "text": [
            "Overall Validation Accuracy:  9.2\n"
          ],
          "name": "stdout"
        }
      ]
    },
    {
      "cell_type": "code",
      "metadata": {
        "id": "Bq0-53kyrBwV"
      },
      "source": [
        ""
      ],
      "execution_count": null,
      "outputs": []
    },
    {
      "cell_type": "code",
      "metadata": {
        "id": "ApQN_iVnrD4J"
      },
      "source": [
        ""
      ],
      "execution_count": null,
      "outputs": []
    },
    {
      "cell_type": "code",
      "metadata": {
        "id": "R-BXCpk5rcaz"
      },
      "source": [
        ""
      ],
      "execution_count": null,
      "outputs": []
    }
  ]
}