{
  "nbformat": 4,
  "nbformat_minor": 0,
  "metadata": {
    "colab": {
      "name": "SUM_overfitted.ipynb",
      "provenance": [],
      "collapsed_sections": []
    },
    "kernelspec": {
      "display_name": "Python 3",
      "language": "python",
      "name": "python3"
    },
    "language_info": {
      "codemirror_mode": {
        "name": "ipython",
        "version": 3
      },
      "file_extension": ".py",
      "mimetype": "text/x-python",
      "name": "python",
      "nbconvert_exporter": "python",
      "pygments_lexer": "ipython3",
      "version": "3.7.7"
    },
    "accelerator": "GPU"
  },
  "cells": [
    {
      "cell_type": "code",
      "metadata": {
        "id": "GXzCvqKSqnWY"
      },
      "source": [
        "import numpy as np\n",
        "import matplotlib.pyplot as plt\n",
        "import torch\n",
        "import random"
      ],
      "execution_count": 1,
      "outputs": []
    },
    {
      "cell_type": "code",
      "metadata": {
        "id": "Oubln6I9-xXy"
      },
      "source": [
        "# import torch\n",
        "torch.cuda.empty_cache()"
      ],
      "execution_count": 2,
      "outputs": []
    },
    {
      "cell_type": "code",
      "metadata": {
        "id": "5ZxAbJMoq9Rm"
      },
      "source": [
        "# from google.colab import files\n",
        "# uploaded = files.upload()"
      ],
      "execution_count": 3,
      "outputs": []
    },
    {
      "cell_type": "code",
      "metadata": {
        "id": "W7YroGIrsgU_"
      },
      "source": [
        "# !unzip akshit_sum.zip"
      ],
      "execution_count": 4,
      "outputs": []
    },
    {
      "cell_type": "code",
      "metadata": {
        "id": "5gI7czRFqnWt"
      },
      "source": [
        "data1 = np.load('akshit_sum/data0.npy')\n",
        "data2 = np.load('akshit_sum/data1.npy')\n",
        "data3 = np.load('akshit_sum/data2.npy')\n",
        "lab1 = np.load('akshit_sum/lab0.npy')\n",
        "lab2 = np.load('akshit_sum/lab1.npy')\n",
        "lab3 = np.load('akshit_sum/lab2.npy')"
      ],
      "execution_count": 5,
      "outputs": []
    },
    {
      "cell_type": "code",
      "metadata": {
        "id": "W-PJDNOJwdo7"
      },
      "source": [
        "X = np.concatenate((data1,data2,data3))\n",
        "Y = np.concatenate((lab1,lab2,lab3))\n",
        "X = (X-0)/(255-0)\n",
        "X = np.expand_dims(X, 1)      # if numpy array\n",
        "\n",
        "train_x = X[:int(0.8*len(X))]\n",
        "val_x = X[int(0.8*len(X)):]\n",
        "\n",
        "train_y = Y[:int(0.8*len(Y))]\n",
        "val_y = Y[int(0.8*len(Y)):]\n",
        "\n",
        "train_x = torch.tensor(train_x)\n",
        "val_x = torch.tensor(val_x)\n",
        "\n",
        "train_y = torch.LongTensor(train_y)\n",
        "val_y = torch.LongTensor(val_y)"
      ],
      "execution_count": 6,
      "outputs": []
    },
    {
      "cell_type": "code",
      "metadata": {
        "colab": {
          "base_uri": "https://localhost:8080/"
        },
        "id": "D1jrQz5WyNRw",
        "outputId": "0bfde922-a0fb-40fa-e54f-1ea0a7ea54ae"
      },
      "source": [
        "X.shape"
      ],
      "execution_count": 7,
      "outputs": [
        {
          "output_type": "execute_result",
          "data": {
            "text/plain": [
              "(30000, 1, 40, 168)"
            ]
          },
          "metadata": {
            "tags": []
          },
          "execution_count": 7
        }
      ]
    },
    {
      "cell_type": "code",
      "metadata": {
        "colab": {
          "base_uri": "https://localhost:8080/"
        },
        "id": "SkHUY_JwHgvI",
        "outputId": "df2af882-ecb7-4e26-c6c1-8732fbe333a2"
      },
      "source": [
        "device = torch.device(\"cuda:0\" if torch.cuda.is_available() else \"cpu\")\n",
        "print(device)"
      ],
      "execution_count": 8,
      "outputs": [
        {
          "output_type": "stream",
          "text": [
            "cuda:0\n"
          ],
          "name": "stdout"
        }
      ]
    },
    {
      "cell_type": "code",
      "metadata": {
        "id": "24XDHC1XwcIa"
      },
      "source": [
        "class SumNet(torch.nn.Module):\n",
        "    def __init__(self):\n",
        "        super(SumNet, self).__init__()\n",
        "        self.conv1 = torch.nn.Conv2d(1,2,5,1)\n",
        "        self.conv2 = torch.nn.Conv2d(2,4,3,1)\n",
        "        self.conv_bn_2 = torch.nn.BatchNorm2d(4)\n",
        "        self.conv3 = torch.nn.Conv2d(4,8,3,1)\n",
        "        self.conv4 = torch.nn.Conv2d(8,16,3,1)\n",
        "        self.conv_bn_4 = torch.nn.BatchNorm2d(16)\n",
        "        self.conv5 = torch.nn.Conv2d(16,32,3,1)\n",
        "        self.conv6 = torch.nn.Conv2d(32,64,3,1)\n",
        "        self.conv_bn_6 = torch.nn.BatchNorm2d(64)\n",
        "        self.conv7 = torch.nn.Conv2d(64,64,3,1)\n",
        "        self.conv8 = torch.nn.Conv2d(64,64,3,1)\n",
        "        self.conv_bn_8 = torch.nn.BatchNorm2d(64)\n",
        "        self.fc1 = torch.nn.Linear(1920, 512)\n",
        "        self.fc2 = torch.nn.Linear(512, 64)\n",
        "        self.fc3 = torch.nn.Linear(64, 37)\n",
        "\n",
        "\n",
        "\n",
        "    def forward(self,x):\n",
        "        x=self.conv1(x)\n",
        "        x=torch.nn.functional.relu(x)\n",
        "        x=self.conv2(x)\n",
        "        x=torch.nn.functional.relu(x)\n",
        "        x=torch.nn.functional.max_pool2d(x,kernel_size = [2,2],stride=[2,2])\n",
        "        x = self.conv_bn_2(x)\n",
        "        x=self.conv3(x)\n",
        "        x=torch.nn.functional.relu(x)\n",
        "        x=self.conv4(x)\n",
        "        x=torch.nn.functional.relu(x)\n",
        "        x=torch.nn.functional.max_pool2d(x,kernel_size = [1,2],stride=[1,2])\n",
        "        x = self.conv_bn_4(x)\n",
        "        x=self.conv5(x)\n",
        "        x=torch.nn.functional.relu(x)\n",
        "        x=self.conv6(x)\n",
        "        x=torch.nn.functional.relu(x)\n",
        "        x=torch.nn.functional.max_pool2d(x,kernel_size = [1,2],stride=[1,2])\n",
        "        x = self.conv_bn_6(x)\n",
        "        x=self.conv7(x)\n",
        "        x=torch.nn.functional.relu(x)\n",
        "        x=self.conv8(x)\n",
        "        x=torch.nn.functional.relu(x)\n",
        "        x=torch.nn.functional.max_pool2d(x,kernel_size = [1,2],stride=[1,2])\n",
        "        x = self.conv_bn_8(x)\n",
        "        x = torch.flatten(x, 1)\n",
        "        # print(\"Size\",x.shape)\n",
        "        x = self.fc1(x)\n",
        "        x = torch.nn.functional.relu(x)\n",
        "        x = self.fc2(x)\n",
        "        x = torch.nn.functional.relu(x)\n",
        "        x = self.fc3(x)\n",
        "\n",
        "        # output = F.log_softmax(x, dim=1)\n",
        "        return x"
      ],
      "execution_count": 9,
      "outputs": []
    },
    {
      "cell_type": "code",
      "metadata": {
        "colab": {
          "base_uri": "https://localhost:8080/"
        },
        "id": "P62JUhmL0ANv",
        "outputId": "1b6c34f8-8994-4ca8-cdbe-ffcad03c2776"
      },
      "source": [
        "model = SumNet()\n",
        "optimizer = torch.optim.Adam(model.parameters(), lr=0.0001)\n",
        "loss = torch.nn.CrossEntropyLoss()\n",
        "scheduler = torch.optim.lr_scheduler.ReduceLROnPlateau(optimizer, 'min',verbose=True,patience=100)\n",
        "if torch.cuda.is_available():\n",
        "    model = model.cuda()\n",
        "    loss = loss.cuda()\n",
        "    train_y = train_y.cuda()\n",
        "    train_x = train_x.cuda()\n",
        "    val_y = val_y.cuda()\n",
        "    val_x = val_x.cuda()\n",
        "print(model)"
      ],
      "execution_count": 10,
      "outputs": [
        {
          "output_type": "stream",
          "text": [
            "SumNet(\n",
            "  (conv1): Conv2d(1, 2, kernel_size=(5, 5), stride=(1, 1))\n",
            "  (conv2): Conv2d(2, 4, kernel_size=(3, 3), stride=(1, 1))\n",
            "  (conv_bn_2): BatchNorm2d(4, eps=1e-05, momentum=0.1, affine=True, track_running_stats=True)\n",
            "  (conv3): Conv2d(4, 8, kernel_size=(3, 3), stride=(1, 1))\n",
            "  (conv4): Conv2d(8, 16, kernel_size=(3, 3), stride=(1, 1))\n",
            "  (conv_bn_4): BatchNorm2d(16, eps=1e-05, momentum=0.1, affine=True, track_running_stats=True)\n",
            "  (conv5): Conv2d(16, 32, kernel_size=(3, 3), stride=(1, 1))\n",
            "  (conv6): Conv2d(32, 64, kernel_size=(3, 3), stride=(1, 1))\n",
            "  (conv_bn_6): BatchNorm2d(64, eps=1e-05, momentum=0.1, affine=True, track_running_stats=True)\n",
            "  (conv7): Conv2d(64, 64, kernel_size=(3, 3), stride=(1, 1))\n",
            "  (conv8): Conv2d(64, 64, kernel_size=(3, 3), stride=(1, 1))\n",
            "  (conv_bn_8): BatchNorm2d(64, eps=1e-05, momentum=0.1, affine=True, track_running_stats=True)\n",
            "  (fc1): Linear(in_features=1920, out_features=512, bias=True)\n",
            "  (fc2): Linear(in_features=512, out_features=64, bias=True)\n",
            "  (fc3): Linear(in_features=64, out_features=37, bias=True)\n",
            ")\n"
          ],
          "name": "stdout"
        }
      ]
    },
    {
      "cell_type": "code",
      "metadata": {
        "id": "JubYSK0ZWbVM"
      },
      "source": [
        "\n"
      ],
      "execution_count": 10,
      "outputs": []
    },
    {
      "cell_type": "code",
      "metadata": {
        "colab": {
          "base_uri": "https://localhost:8080/"
        },
        "id": "1C0RL-0l0G6k",
        "outputId": "52cb0ca4-7205-4511-cf19-a70289118890"
      },
      "source": [
        "index_list = np.arange(24000)\n",
        "val_index_list = np.arange(6000)\n",
        "\n",
        "train_losses= []\n",
        "val_losses = []\n",
        "batch_size = 64\n",
        "cnt=-1\n",
        "for epochs in range(20):\n",
        "  random.shuffle(index_list)\n",
        "  for batch_no in range(int(len(train_x)/batch_size)):\n",
        "    cnt+=1\n",
        "    # print(index_list[batch_size*batch_no:batch_size*(batch_no+1)])\n",
        "    train_batch_x = train_x[index_list[batch_size*batch_no:batch_size*(batch_no+1)]] \n",
        "    train_batch_y = train_y[index_list[batch_size*batch_no:batch_size*(batch_no+1)]]\n",
        "\n",
        "    output_train = model(train_batch_x.float())\n",
        "    loss_train = loss(output_train, train_batch_y)\n",
        "    train_losses.append(loss_train.item())\n",
        "    optimizer.zero_grad()\n",
        "    loss_train.backward()\n",
        "    optimizer.step()\n",
        "\n",
        "    if(cnt%1==0):\n",
        "      random.shuffle(val_index_list)\n",
        "      val_batch_x = val_x[val_index_list[:500]]\n",
        "      val_batch_y = val_y[val_index_list[:500]]\n",
        "\n",
        "      output_val = model(val_batch_x.float())\n",
        "      loss_val = loss(output_val, val_batch_y)\n",
        "      val_losses.append(loss_val.item())\n",
        "      # scheduler.step(loss_val.item())\n",
        "    else:\n",
        "      val_losses.append(val_losses[-1])\n",
        "\n",
        "  for param_group in optimizer.param_groups:\n",
        "        lr = param_group['lr']\n",
        "\n",
        "  if(lr<0.0000001):\n",
        "    break\n",
        "\n",
        "  print(\"Epoch #\",epochs,\"Completed\")\n",
        "  print(train_losses[-1],val_losses[-1])"
      ],
      "execution_count": 11,
      "outputs": [
        {
          "output_type": "stream",
          "text": [
            "Epoch # 0 Completed\n",
            "3.2826106548309326 3.1705162525177\n",
            "Epoch # 1 Completed\n",
            "2.8136634826660156 2.9414448738098145\n",
            "Epoch # 2 Completed\n",
            "2.8684401512145996 2.7568254470825195\n",
            "Epoch # 3 Completed\n",
            "2.6076600551605225 2.6621475219726562\n",
            "Epoch # 4 Completed\n",
            "2.51680850982666 2.692072868347168\n",
            "Epoch # 5 Completed\n",
            "2.1983983516693115 2.74025297164917\n",
            "Epoch # 6 Completed\n",
            "1.8210651874542236 2.7449657917022705\n",
            "Epoch # 7 Completed\n",
            "1.688535213470459 2.888214349746704\n",
            "Epoch # 8 Completed\n",
            "1.7119868993759155 3.119389295578003\n",
            "Epoch # 9 Completed\n",
            "1.3994414806365967 3.2754697799682617\n",
            "Epoch # 10 Completed\n",
            "1.2581621408462524 3.570180892944336\n",
            "Epoch # 11 Completed\n",
            "1.067111849784851 3.885336399078369\n",
            "Epoch # 12 Completed\n",
            "0.7264870405197144 4.139591217041016\n",
            "Epoch # 13 Completed\n",
            "0.6629254817962646 4.5628581047058105\n",
            "Epoch # 14 Completed\n",
            "0.3550763428211212 5.253689765930176\n",
            "Epoch # 15 Completed\n",
            "0.30841800570487976 5.340494632720947\n",
            "Epoch # 16 Completed\n",
            "0.22658805549144745 5.630774974822998\n",
            "Epoch # 17 Completed\n",
            "0.08596853166818619 5.776614189147949\n",
            "Epoch # 18 Completed\n",
            "0.11100223660469055 6.3812575340271\n",
            "Epoch # 19 Completed\n",
            "0.09832093864679337 6.542473316192627\n"
          ],
          "name": "stdout"
        }
      ]
    },
    {
      "cell_type": "code",
      "metadata": {
        "colab": {
          "base_uri": "https://localhost:8080/",
          "height": 297
        },
        "id": "Q-v8L7RPZyM-",
        "outputId": "78c5e291-7a73-451c-d256-9c47ed4f810c"
      },
      "source": [
        "plt.plot(train_losses,label=\"Training Loss\")\n",
        "plt.plot(val_losses,label=\"Validation Loss\")\n",
        "plt.title(\"Loss Vs Iterations\")\n",
        "plt.legend()"
      ],
      "execution_count": 12,
      "outputs": [
        {
          "output_type": "execute_result",
          "data": {
            "text/plain": [
              "<matplotlib.legend.Legend at 0x7fd7d1056438>"
            ]
          },
          "metadata": {
            "tags": []
          },
          "execution_count": 12
        },
        {
          "output_type": "display_data",
          "data": {
            "image/png": "[encoded data removed]",
            "text/plain": [
              "<Figure size 432x288 with 1 Axes>"
            ]
          },
          "metadata": {
            "tags": [],
            "needs_background": "light"
          }
        }
      ]
    },
    {
      "cell_type": "code",
      "metadata": {
        "id": "xBLBEz3yZBc4"
      },
      "source": [
        "# Accuracies"
      ],
      "execution_count": 13,
      "outputs": []
    },
    {
      "cell_type": "code",
      "metadata": {
        "id": "xO0_8QiH5M_b"
      },
      "source": [
        "def get_accuracy(pred,y):\n",
        "    accu_sum=0\n",
        "    for i in range(len(y)):\n",
        "        maxi=-100000\n",
        "        maxind=-1\n",
        "        for j in range(37):\n",
        "          # print(pred[i][j])\n",
        "          if pred[i][j] >= maxi:\n",
        "              maxind = j\n",
        "              maxi=pred[i][j]\n",
        "        if(maxind==y[i]):\n",
        "            accu_sum+=1\n",
        "        \n",
        "    return accu_sum"
      ],
      "execution_count": 14,
      "outputs": []
    },
    {
      "cell_type": "code",
      "metadata": {
        "colab": {
          "base_uri": "https://localhost:8080/"
        },
        "id": "FbAfJaTwWBZH",
        "outputId": "d227c137-7d72-40ee-f620-dc605622d263"
      },
      "source": [
        "batch_size = 500\n",
        "correct_preds=0\n",
        "for batch_no in range(int(len(train_x)/batch_size)):\n",
        "    train_batch_x = train_x[batch_size*batch_no:batch_size*(batch_no+1)] \n",
        "    train_batch_y = train_y[batch_size*batch_no:batch_size*(batch_no+1)]\n",
        "    output_train = model(train_batch_x.float())\n",
        "    correct_preds+=get_accuracy(output_train.cpu().detach().numpy(),train_batch_y.cpu().detach().numpy())\n",
        "print(\"Overall Train Accuracy: \",100*correct_preds/len(train_x))"
      ],
      "execution_count": 15,
      "outputs": [
        {
          "output_type": "stream",
          "text": [
            "Overall Train Accuracy:  99.80833333333334\n"
          ],
          "name": "stdout"
        }
      ]
    },
    {
      "cell_type": "code",
      "metadata": {
        "colab": {
          "base_uri": "https://localhost:8080/"
        },
        "id": "jf1c4C1QXapL",
        "outputId": "c564523f-81d9-47fc-c346-3f83165ea467"
      },
      "source": [
        "batch_size = 500\n",
        "correct_preds=0\n",
        "for batch_no in range(int(len(val_x)/batch_size)):\n",
        "    val_batch_x = val_x[batch_size*batch_no:batch_size*(batch_no+1)] \n",
        "    val_batch_y = val_y[batch_size*batch_no:batch_size*(batch_no+1)]\n",
        "    output_val = model(val_batch_x.float())\n",
        "    correct_preds+=get_accuracy(output_val.cpu().detach().numpy(),val_batch_y.cpu().detach().numpy())\n",
        "print(\"Overall Validation Accuracy: \",100*correct_preds/len(val_x))"
      ],
      "execution_count": 16,
      "outputs": [
        {
          "output_type": "stream",
          "text": [
            "Overall Validation Accuracy:  9.566666666666666\n"
          ],
          "name": "stdout"
        }
      ]
    },
    {
      "cell_type": "code",
      "metadata": {
        "id": "4OFniI72ZUw1"
      },
      "source": [
        "#saving and loading the model"
      ],
      "execution_count": 17,
      "outputs": []
    },
    {
      "cell_type": "code",
      "metadata": {
        "id": "mRN-4VHxbVBI"
      },
      "source": [
        "torch.save(model,\"SumNet_inital_model\")"
      ],
      "execution_count": 18,
      "outputs": []
    },
    {
      "cell_type": "code",
      "metadata": {
        "colab": {
          "base_uri": "https://localhost:8080/",
          "height": 16
        },
        "id": "tXXLk6AjcN-8",
        "outputId": "c47bfbc9-6e73-4126-e3e3-80334ad36244"
      },
      "source": [
        "from google.colab import files\n",
        "files.download('SumNet_inital_model') "
      ],
      "execution_count": 19,
      "outputs": [
        {
          "output_type": "display_data",
          "data": {
            "application/javascript": [
              "\n",
              "    async function download(id, filename, size) {\n",
              "      if (!google.colab.kernel.accessAllowed) {\n",
              "        return;\n",
              "      }\n",
              "      const div = document.createElement('div');\n",
              "      const label = document.createElement('label');\n",
              "      label.textContent = `Downloading \"${filename}\": `;\n",
              "      div.appendChild(label);\n",
              "      const progress = document.createElement('progress');\n",
              "      progress.max = size;\n",
              "      div.appendChild(progress);\n",
              "      document.body.appendChild(div);\n",
              "\n",
              "      const buffers = [];\n",
              "      let downloaded = 0;\n",
              "\n",
              "      const channel = await google.colab.kernel.comms.open(id);\n",
              "      // Send a message to notify the kernel that we're ready.\n",
              "      channel.send({})\n",
              "\n",
              "      for await (const message of channel.messages) {\n",
              "        // Send a message to notify the kernel that we're ready.\n",
              "        channel.send({})\n",
              "        if (message.buffers) {\n",
              "          for (const buffer of message.buffers) {\n",
              "            buffers.push(buffer);\n",
              "            downloaded += buffer.byteLength;\n",
              "            progress.value = downloaded;\n",
              "          }\n",
              "        }\n",
              "      }\n",
              "      const blob = new Blob(buffers, {type: 'application/binary'});\n",
              "      const a = document.createElement('a');\n",
              "      a.href = window.URL.createObjectURL(blob);\n",
              "      a.download = filename;\n",
              "      div.appendChild(a);\n",
              "      a.click();\n",
              "      div.remove();\n",
              "    }\n",
              "  "
            ],
            "text/plain": [
              "<IPython.core.display.Javascript object>"
            ]
          },
          "metadata": {
            "tags": []
          }
        },
        {
          "output_type": "display_data",
          "data": {
            "application/javascript": [
              "download(\"download_42c7fa38-2dc5-4cee-8bef-f22e09fb2564\", \"SumNet_inital_model\", 4488561)"
            ],
            "text/plain": [
              "<IPython.core.display.Javascript object>"
            ]
          },
          "metadata": {
            "tags": []
          }
        }
      ]
    },
    {
      "cell_type": "code",
      "metadata": {
        "id": "bblHIvM2Zf45"
      },
      "source": [
        "saved_model = torch.load(\"SumNet_inital_model\")"
      ],
      "execution_count": 20,
      "outputs": []
    },
    {
      "cell_type": "code",
      "metadata": {
        "colab": {
          "base_uri": "https://localhost:8080/"
        },
        "id": "dVj0Y1j6ctmk",
        "outputId": "6fd52730-50b9-4ed7-e69c-0c65c661a67e"
      },
      "source": [
        "saved_model.eval()"
      ],
      "execution_count": 24,
      "outputs": [
        {
          "output_type": "execute_result",
          "data": {
            "text/plain": [
              "SumNet(\n",
              "  (conv1): Conv2d(1, 2, kernel_size=(5, 5), stride=(1, 1))\n",
              "  (conv2): Conv2d(2, 4, kernel_size=(3, 3), stride=(1, 1))\n",
              "  (conv_bn_2): BatchNorm2d(4, eps=1e-05, momentum=0.1, affine=True, track_running_stats=True)\n",
              "  (conv3): Conv2d(4, 8, kernel_size=(3, 3), stride=(1, 1))\n",
              "  (conv4): Conv2d(8, 16, kernel_size=(3, 3), stride=(1, 1))\n",
              "  (conv_bn_4): BatchNorm2d(16, eps=1e-05, momentum=0.1, affine=True, track_running_stats=True)\n",
              "  (conv5): Conv2d(16, 32, kernel_size=(3, 3), stride=(1, 1))\n",
              "  (conv6): Conv2d(32, 64, kernel_size=(3, 3), stride=(1, 1))\n",
              "  (conv_bn_6): BatchNorm2d(64, eps=1e-05, momentum=0.1, affine=True, track_running_stats=True)\n",
              "  (conv7): Conv2d(64, 64, kernel_size=(3, 3), stride=(1, 1))\n",
              "  (conv8): Conv2d(64, 64, kernel_size=(3, 3), stride=(1, 1))\n",
              "  (conv_bn_8): BatchNorm2d(64, eps=1e-05, momentum=0.1, affine=True, track_running_stats=True)\n",
              "  (fc1): Linear(in_features=1920, out_features=512, bias=True)\n",
              "  (fc2): Linear(in_features=512, out_features=64, bias=True)\n",
              "  (fc3): Linear(in_features=64, out_features=37, bias=True)\n",
              ")"
            ]
          },
          "metadata": {
            "tags": []
          },
          "execution_count": 24
        }
      ]
    },
    {
      "cell_type": "code",
      "metadata": {
        "colab": {
          "base_uri": "https://localhost:8080/"
        },
        "id": "ZcUHBigPcwBa",
        "outputId": "67f6f1cf-2d9b-47e4-dede-8a1f19c9c11c"
      },
      "source": [
        "batch_size = 500\n",
        "correct_preds=0\n",
        "for batch_no in range(int(len(train_x)/batch_size)):\n",
        "    train_batch_x = train_x[batch_size*batch_no:batch_size*(batch_no+1)] \n",
        "    train_batch_y = train_y[batch_size*batch_no:batch_size*(batch_no+1)]\n",
        "    output_train = saved_model(train_batch_x.float())\n",
        "    correct_preds+=get_accuracy(output_train.cpu().detach().numpy(),train_batch_y.cpu().detach().numpy())\n",
        "print(\"Overall Train Accuracy: \",100*correct_preds/len(train_x))"
      ],
      "execution_count": 29,
      "outputs": [
        {
          "output_type": "stream",
          "text": [
            "Overall Train Accuracy:  99.82916666666667\n"
          ],
          "name": "stdout"
        }
      ]
    },
    {
      "cell_type": "code",
      "metadata": {
        "colab": {
          "base_uri": "https://localhost:8080/"
        },
        "id": "apQYRCY6f0lG",
        "outputId": "4164846e-7e3d-47e0-dd73-162c5cbd7ab9"
      },
      "source": [
        "batch_size = 500\n",
        "correct_preds=0\n",
        "for batch_no in range(int(len(val_x)/batch_size)):\n",
        "    val_batch_x = val_x[batch_size*batch_no:batch_size*(batch_no+1)] \n",
        "    val_batch_y = val_y[batch_size*batch_no:batch_size*(batch_no+1)]\n",
        "    output_val = saved_model(val_batch_x.float())\n",
        "    correct_preds+=get_accuracy(output_val.cpu().detach().numpy(),val_batch_y.cpu().detach().numpy())\n",
        "print(\"Overall Validation Accuracy: \",100*correct_preds/len(val_x))"
      ],
      "execution_count": 28,
      "outputs": [
        {
          "output_type": "stream",
          "text": [
            "Overall Validation Accuracy:  9.733333333333333\n"
          ],
          "name": "stdout"
        }
      ]
    },
    {
      "cell_type": "code",
      "metadata": {
        "id": "Bq0-53kyrBwV"
      },
      "source": [
        ""
      ],
      "execution_count": null,
      "outputs": []
    },
    {
      "cell_type": "code",
      "metadata": {
        "id": "ApQN_iVnrD4J"
      },
      "source": [
        ""
      ],
      "execution_count": null,
      "outputs": []
    },
    {
      "cell_type": "code",
      "metadata": {
        "id": "R-BXCpk5rcaz"
      },
      "source": [
        ""
      ],
      "execution_count": null,
      "outputs": []
    }
  ]
}