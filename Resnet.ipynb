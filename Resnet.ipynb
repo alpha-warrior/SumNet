{
 "cells": [
  {
   "cell_type": "code",
   "execution_count": 1,
   "metadata": {
    "id": "GXzCvqKSqnWY"
   },
   "outputs": [],
   "source": [
    "import numpy as np\n",
    "import matplotlib.pyplot as plt\n",
    "import torch\n",
    "import random\n",
    "from torchvision import transforms\n",
    "from PIL import Image"
   ]
  },
  {
   "cell_type": "code",
   "execution_count": 2,
   "metadata": {
    "id": "Oubln6I9-xXy"
   },
   "outputs": [],
   "source": [
    "torch.cuda.empty_cache()"
   ]
  },
  {
   "cell_type": "code",
   "execution_count": 5,
   "metadata": {
    "id": "5gI7czRFqnWt"
   },
   "outputs": [],
   "source": [
    "data1 = np.load('akshit_sum/data0.npy')\n",
    "data2 = np.load('akshit_sum/data1.npy')\n",
    "data3 = np.load('akshit_sum/data2.npy')\n",
    "lab1 = np.load('akshit_sum/lab0.npy')\n",
    "lab2 = np.load('akshit_sum/lab1.npy')\n",
    "lab3 = np.load('akshit_sum/lab2.npy')"
   ]
  },
  {
   "cell_type": "code",
   "execution_count": 6,
   "metadata": {
    "id": "ZqJb_RKK8gmu"
   },
   "outputs": [],
   "source": [
    "preprocess = transforms.Compose([\n",
    "                transforms.Resize(55),                                                                                                                                        transforms.CenterCrop(224),\n",
    "                transforms.ToTensor(),\n",
    "                transforms.Normalize(mean=[0.485, 0.456, 0.406], std=[0.229, 0.224, 0.225]),\n",
    "            ])"
   ]
  },
  {
   "cell_type": "code",
   "execution_count": 7,
   "metadata": {
    "id": "PVfwNnNix4dk"
   },
   "outputs": [],
   "source": [
    "X = np.concatenate((data1,data2,data3))"
   ]
  },
  {
   "cell_type": "code",
   "execution_count": 8,
   "metadata": {
    "id": "W-PJDNOJwdo7"
   },
   "outputs": [],
   "source": [
    "Y = np.concatenate((lab1,lab2,lab3))\n",
    "train_x = X[:int(0.8*len(X))]\n",
    "val_x = X[int(0.8*len(X)):]\n",
    "\n",
    "train_y = Y[:int(0.8*len(Y))]\n",
    "val_y = Y[int(0.8*len(Y)):]\n"
   ]
  },
  {
   "cell_type": "code",
   "execution_count": 9,
   "metadata": {
    "id": "D1jrQz5WyNRw"
   },
   "outputs": [],
   "source": [
    "del X,Y,data1,data2,data3,lab1,lab2,lab3"
   ]
  },
  {
   "cell_type": "code",
   "execution_count": 10,
   "metadata": {
    "colab": {
     "base_uri": "https://localhost:8080/"
    },
    "id": "SkHUY_JwHgvI",
    "outputId": "513014ad-faaa-4ce7-8fe0-898fa3f9e5e6"
   },
   "outputs": [
    {
     "name": "stdout",
     "output_type": "stream",
     "text": [
      "cuda:0\n"
     ]
    }
   ],
   "source": [
    "device = torch.device(\"cuda:0\" if torch.cuda.is_available() else \"cpu\")\n",
    "print(device)"
   ]
  },
  {
   "cell_type": "code",
   "execution_count": 17,
   "metadata": {
    "colab": {
     "base_uri": "https://localhost:8080/"
    },
    "id": "nu_t34OE102S",
    "outputId": "8c2e18f9-cac9-4be6-90a2-aa88b827ccd1"
   },
   "outputs": [
    {
     "name": "stderr",
     "output_type": "stream",
     "text": [
      "Using cache found in /home/jashn.arora/.cache/torch/hub/pytorch_vision_v0.6.0\n"
     ]
    }
   ],
   "source": [
    "resnet = torch.hub.load('pytorch/vision:v0.6.0', 'resnet18', pretrained=True)\n",
    "\n",
    "\n",
    "num_ftrs = resnet.fc.in_features\n",
    "resnet.fc = torch.nn.Linear(num_ftrs, 37) \n",
    "\n",
    "if torch.cuda.is_available():\n",
    "  resnet.to('cuda')\n"
   ]
  },
  {
   "cell_type": "code",
   "execution_count": 20,
   "metadata": {
    "colab": {
     "base_uri": "https://localhost:8080/"
    },
    "id": "P62JUhmL0ANv",
    "outputId": "234e9ced-f6b7-479d-813b-82fc87877f58"
   },
   "outputs": [
    {
     "name": "stdout",
     "output_type": "stream",
     "text": [
      "ResNet(\n",
      "  (conv1): Conv2d(3, 64, kernel_size=(7, 7), stride=(2, 2), padding=(3, 3), bias=False)\n",
      "  (bn1): BatchNorm2d(64, eps=1e-05, momentum=0.1, affine=True, track_running_stats=True)\n",
      "  (relu): ReLU(inplace=True)\n",
      "  (maxpool): MaxPool2d(kernel_size=3, stride=2, padding=1, dilation=1, ceil_mode=False)\n",
      "  (layer1): Sequential(\n",
      "    (0): BasicBlock(\n",
      "      (conv1): Conv2d(64, 64, kernel_size=(3, 3), stride=(1, 1), padding=(1, 1), bias=False)\n",
      "      (bn1): BatchNorm2d(64, eps=1e-05, momentum=0.1, affine=True, track_running_stats=True)\n",
      "      (relu): ReLU(inplace=True)\n",
      "      (conv2): Conv2d(64, 64, kernel_size=(3, 3), stride=(1, 1), padding=(1, 1), bias=False)\n",
      "      (bn2): BatchNorm2d(64, eps=1e-05, momentum=0.1, affine=True, track_running_stats=True)\n",
      "    )\n",
      "    (1): BasicBlock(\n",
      "      (conv1): Conv2d(64, 64, kernel_size=(3, 3), stride=(1, 1), padding=(1, 1), bias=False)\n",
      "      (bn1): BatchNorm2d(64, eps=1e-05, momentum=0.1, affine=True, track_running_stats=True)\n",
      "      (relu): ReLU(inplace=True)\n",
      "      (conv2): Conv2d(64, 64, kernel_size=(3, 3), stride=(1, 1), padding=(1, 1), bias=False)\n",
      "      (bn2): BatchNorm2d(64, eps=1e-05, momentum=0.1, affine=True, track_running_stats=True)\n",
      "    )\n",
      "  )\n",
      "  (layer2): Sequential(\n",
      "    (0): BasicBlock(\n",
      "      (conv1): Conv2d(64, 128, kernel_size=(3, 3), stride=(2, 2), padding=(1, 1), bias=False)\n",
      "      (bn1): BatchNorm2d(128, eps=1e-05, momentum=0.1, affine=True, track_running_stats=True)\n",
      "      (relu): ReLU(inplace=True)\n",
      "      (conv2): Conv2d(128, 128, kernel_size=(3, 3), stride=(1, 1), padding=(1, 1), bias=False)\n",
      "      (bn2): BatchNorm2d(128, eps=1e-05, momentum=0.1, affine=True, track_running_stats=True)\n",
      "      (downsample): Sequential(\n",
      "        (0): Conv2d(64, 128, kernel_size=(1, 1), stride=(2, 2), bias=False)\n",
      "        (1): BatchNorm2d(128, eps=1e-05, momentum=0.1, affine=True, track_running_stats=True)\n",
      "      )\n",
      "    )\n",
      "    (1): BasicBlock(\n",
      "      (conv1): Conv2d(128, 128, kernel_size=(3, 3), stride=(1, 1), padding=(1, 1), bias=False)\n",
      "      (bn1): BatchNorm2d(128, eps=1e-05, momentum=0.1, affine=True, track_running_stats=True)\n",
      "      (relu): ReLU(inplace=True)\n",
      "      (conv2): Conv2d(128, 128, kernel_size=(3, 3), stride=(1, 1), padding=(1, 1), bias=False)\n",
      "      (bn2): BatchNorm2d(128, eps=1e-05, momentum=0.1, affine=True, track_running_stats=True)\n",
      "    )\n",
      "  )\n",
      "  (layer3): Sequential(\n",
      "    (0): BasicBlock(\n",
      "      (conv1): Conv2d(128, 256, kernel_size=(3, 3), stride=(2, 2), padding=(1, 1), bias=False)\n",
      "      (bn1): BatchNorm2d(256, eps=1e-05, momentum=0.1, affine=True, track_running_stats=True)\n",
      "      (relu): ReLU(inplace=True)\n",
      "      (conv2): Conv2d(256, 256, kernel_size=(3, 3), stride=(1, 1), padding=(1, 1), bias=False)\n",
      "      (bn2): BatchNorm2d(256, eps=1e-05, momentum=0.1, affine=True, track_running_stats=True)\n",
      "      (downsample): Sequential(\n",
      "        (0): Conv2d(128, 256, kernel_size=(1, 1), stride=(2, 2), bias=False)\n",
      "        (1): BatchNorm2d(256, eps=1e-05, momentum=0.1, affine=True, track_running_stats=True)\n",
      "      )\n",
      "    )\n",
      "    (1): BasicBlock(\n",
      "      (conv1): Conv2d(256, 256, kernel_size=(3, 3), stride=(1, 1), padding=(1, 1), bias=False)\n",
      "      (bn1): BatchNorm2d(256, eps=1e-05, momentum=0.1, affine=True, track_running_stats=True)\n",
      "      (relu): ReLU(inplace=True)\n",
      "      (conv2): Conv2d(256, 256, kernel_size=(3, 3), stride=(1, 1), padding=(1, 1), bias=False)\n",
      "      (bn2): BatchNorm2d(256, eps=1e-05, momentum=0.1, affine=True, track_running_stats=True)\n",
      "    )\n",
      "  )\n",
      "  (layer4): Sequential(\n",
      "    (0): BasicBlock(\n",
      "      (conv1): Conv2d(256, 512, kernel_size=(3, 3), stride=(2, 2), padding=(1, 1), bias=False)\n",
      "      (bn1): BatchNorm2d(512, eps=1e-05, momentum=0.1, affine=True, track_running_stats=True)\n",
      "      (relu): ReLU(inplace=True)\n",
      "      (conv2): Conv2d(512, 512, kernel_size=(3, 3), stride=(1, 1), padding=(1, 1), bias=False)\n",
      "      (bn2): BatchNorm2d(512, eps=1e-05, momentum=0.1, affine=True, track_running_stats=True)\n",
      "      (downsample): Sequential(\n",
      "        (0): Conv2d(256, 512, kernel_size=(1, 1), stride=(2, 2), bias=False)\n",
      "        (1): BatchNorm2d(512, eps=1e-05, momentum=0.1, affine=True, track_running_stats=True)\n",
      "      )\n",
      "    )\n",
      "    (1): BasicBlock(\n",
      "      (conv1): Conv2d(512, 512, kernel_size=(3, 3), stride=(1, 1), padding=(1, 1), bias=False)\n",
      "      (bn1): BatchNorm2d(512, eps=1e-05, momentum=0.1, affine=True, track_running_stats=True)\n",
      "      (relu): ReLU(inplace=True)\n",
      "      (conv2): Conv2d(512, 512, kernel_size=(3, 3), stride=(1, 1), padding=(1, 1), bias=False)\n",
      "      (bn2): BatchNorm2d(512, eps=1e-05, momentum=0.1, affine=True, track_running_stats=True)\n",
      "    )\n",
      "  )\n",
      "  (avgpool): AdaptiveAvgPool2d(output_size=(1, 1))\n",
      "  (fc): Linear(in_features=512, out_features=37, bias=True)\n",
      ")\n"
     ]
    }
   ],
   "source": [
    "optimizer = torch.optim.Adam(resnet.parameters(), lr=0.001)\n",
    "loss = torch.nn.CrossEntropyLoss()\n",
    "scheduler = torch.optim.lr_scheduler.ReduceLROnPlateau(optimizer, 'min',verbose=True,patience=240)\n",
    "if torch.cuda.is_available():\n",
    "    loss = loss.cuda()\n",
    "print(resnet)"
   ]
  },
  {
   "cell_type": "code",
   "execution_count": 21,
   "metadata": {
    "id": "JubYSK0ZWbVM"
   },
   "outputs": [],
   "source": [
    "def get_accuracy(pred,y):\n",
    "    accu_sum=0\n",
    "    for i in range(len(y)):\n",
    "        maxi=-100000\n",
    "        maxind=-1\n",
    "        for j in range(37):\n",
    "          # print(pred[i][j])\n",
    "          if pred[i][j] >= maxi:\n",
    "              maxind = j\n",
    "              maxi=pred[i][j]\n",
    "        if(maxind==y[i]):\n",
    "            accu_sum+=1\n",
    "        \n",
    "    return accu_sum"
   ]
  },
  {
   "cell_type": "code",
   "execution_count": 22,
   "metadata": {
    "id": "1C0RL-0l0G6k"
   },
   "outputs": [
    {
     "name": "stdout",
     "output_type": "stream",
     "text": [
      "Epoch # 0 Completed\n",
      "1.926661491394043 2.0999884605407715\n",
      "0.17316666666666666 0.12945833333333334\n",
      "Epoch # 1 Completed\n",
      "1.6779996156692505 1.9315930604934692\n",
      "0.28983333333333333 0.21629166666666666\n",
      "Epoch # 2 Completed\n",
      "1.3691961765289307 1.7781236171722412\n",
      "0.3700833333333333 0.325375\n",
      "Epoch # 3 Completed\n",
      "1.2056981325149536 1.5412417650222778\n",
      "0.41508333333333336 0.38433333333333336\n",
      "Epoch # 4 Completed\n",
      "1.0885186195373535 1.3387640714645386\n",
      "0.456 0.42504166666666665\n",
      "Epoch # 5 Completed\n",
      "1.0591917037963867 1.8219256401062012\n",
      "0.47825 0.4895833333333333\n",
      "Epoch # 6 Completed\n",
      "1.092994213104248 1.0469317436218262\n",
      "0.496125 0.4965\n",
      "Epoch  1826: reducing learning rate of group 0 to 1.0000e-04.\n",
      "Epoch # 7 Completed\n",
      "0.6771163940429688 0.8026063442230225\n",
      "0.5995 0.67825\n",
      "Epoch # 8 Completed\n",
      "0.7776451110839844 0.6394014954566956\n",
      "0.6945 0.87125\n",
      "Epoch # 9 Completed\n",
      "0.5170651078224182 0.5760011076927185\n",
      "0.7360416666666667 0.8722916666666667\n",
      "Epoch # 10 Completed\n",
      "0.621239185333252 0.6181690096855164\n",
      "0.7735833333333333 0.86525\n",
      "Epoch # 11 Completed\n",
      "0.920153796672821 0.47090980410575867\n",
      "0.8060833333333334 0.8926666666666667\n",
      "Epoch # 12 Completed\n",
      "0.4256090819835663 0.5452020168304443\n",
      "0.85375 0.9007083333333333\n",
      "Epoch # 13 Completed\n",
      "0.4557155668735504 0.39580443501472473\n",
      "0.8721666666666666 0.9074166666666666\n",
      "Epoch # 14 Completed\n",
      "0.31944456696510315 0.5691351890563965\n",
      "0.8990833333333333 0.9160833333333334\n",
      "Epoch # 15 Completed\n",
      "0.24653272330760956 0.6766098141670227\n",
      "0.923125 0.92475\n",
      "Epoch # 16 Completed\n",
      "0.26895737648010254 0.22325433790683746\n",
      "0.9340833333333334 0.9266666666666666\n",
      "Epoch  4112: reducing learning rate of group 0 to 1.0000e-05.\n",
      "Epoch # 17 Completed\n",
      "0.1808939427137375 0.4603955149650574\n",
      "0.9538333333333333 0.9399166666666666\n",
      "Epoch  4555: reducing learning rate of group 0 to 1.0000e-06.\n",
      "Epoch # 18 Completed\n",
      "0.16793033480644226 0.38504040241241455\n",
      "0.9618333333333333 0.9427916666666667\n",
      "Epoch # 19 Completed\n",
      "0.18006326258182526 0.8482199311256409\n",
      "0.9659166666666666 0.943125\n",
      "Epoch  4984: reducing learning rate of group 0 to 1.0000e-07.\n",
      "Epoch # 20 Completed\n",
      "0.18269149959087372 0.7564598917961121\n",
      "0.9617916666666667 0.94225\n"
     ]
    },
    {
     "ename": "KeyboardInterrupt",
     "evalue": "",
     "output_type": "error",
     "traceback": [
      "\u001b[0;31m---------------------------------------------------------------------------\u001b[0m",
      "\u001b[0;31mKeyboardInterrupt\u001b[0m                         Traceback (most recent call last)",
      "\u001b[0;32m<ipython-input-22-7a071526dca3>\u001b[0m in \u001b[0;36m<module>\u001b[0;34m\u001b[0m\n\u001b[1;32m     55\u001b[0m       \u001b[0mval_batch_y\u001b[0m \u001b[0;34m=\u001b[0m \u001b[0mval_y\u001b[0m\u001b[0;34m[\u001b[0m\u001b[0mval_index_list\u001b[0m\u001b[0;34m[\u001b[0m\u001b[0;34m:\u001b[0m\u001b[0mbatch_size\u001b[0m\u001b[0;34m]\u001b[0m\u001b[0;34m]\u001b[0m\u001b[0;34m\u001b[0m\u001b[0;34m\u001b[0m\u001b[0m\n\u001b[1;32m     56\u001b[0m \u001b[0;34m\u001b[0m\u001b[0m\n\u001b[0;32m---> 57\u001b[0;31m       \u001b[0mval_batch_x\u001b[0m \u001b[0;34m=\u001b[0m \u001b[0mtorch\u001b[0m\u001b[0;34m.\u001b[0m\u001b[0mtensor\u001b[0m\u001b[0;34m(\u001b[0m\u001b[0mval_batch_x\u001b[0m\u001b[0;34m)\u001b[0m\u001b[0;34m\u001b[0m\u001b[0;34m\u001b[0m\u001b[0m\n\u001b[0m\u001b[1;32m     58\u001b[0m       \u001b[0mval_batch_y\u001b[0m \u001b[0;34m=\u001b[0m \u001b[0mtorch\u001b[0m\u001b[0;34m.\u001b[0m\u001b[0mLongTensor\u001b[0m\u001b[0;34m(\u001b[0m\u001b[0mval_batch_y\u001b[0m\u001b[0;34m)\u001b[0m\u001b[0;34m\u001b[0m\u001b[0;34m\u001b[0m\u001b[0m\n\u001b[1;32m     59\u001b[0m \u001b[0;34m\u001b[0m\u001b[0m\n",
      "\u001b[0;31mKeyboardInterrupt\u001b[0m: "
     ]
    }
   ],
   "source": [
    "index_list = np.arange(24000)\n",
    "val_index_list = np.arange(6000)\n",
    "\n",
    "train_losses= []\n",
    "val_losses = []\n",
    "\n",
    "train_accs = []\n",
    "val_accs = []\n",
    "\n",
    "batch_size = 100\n",
    "cnt=-1\n",
    "for epochs in range(100):\n",
    "  acc_sum_ep_val = 0\n",
    "  acc_sum_ep_trn = 0\n",
    "\n",
    "  random.shuffle(index_list)\n",
    "  for batch_no in range(int(len(train_x)/batch_size)):\n",
    "    cnt+=1\n",
    "    # print(index_list[batch_size*batch_no:batch_size*(batch_no+1)])\n",
    "    train_batch_x = []\n",
    "    \n",
    "    for temp_img in train_x[index_list[batch_size*batch_no:batch_size*(batch_no+1)]]:\n",
    "      PIL_image = Image.fromarray(np.uint8(temp_img)).convert('RGB')\n",
    "      x1 = preprocess(PIL_image)\n",
    "      train_batch_x.append(x1.numpy())\n",
    "      # print(type(x1.numpy()))\n",
    "    # train_batch_x = np.array(train_batch_x)\n",
    "    \n",
    "    # print(type(train_batch_x))\n",
    "    train_batch_y = train_y[index_list[batch_size*batch_no:batch_size*(batch_no+1)]]\n",
    "\n",
    "    train_batch_x = torch.tensor(train_batch_x)\n",
    "    train_batch_y = torch.LongTensor(train_batch_y)\n",
    "\n",
    "    if torch.cuda.is_available():\n",
    "      train_batch_x = train_batch_x.cuda()\n",
    "      train_batch_y = train_batch_y.cuda()\n",
    "    resnet.train()\n",
    "    output_train = resnet(train_batch_x.float())\n",
    "    loss_train = loss(output_train, train_batch_y)\n",
    "    train_losses.append(loss_train.item())\n",
    "    optimizer.zero_grad()\n",
    "    loss_train.backward()\n",
    "    optimizer.step()\n",
    "\n",
    "    if(cnt%1==0):\n",
    "      random.shuffle(val_index_list)\n",
    "      val_batch_x =[]\n",
    "      for temp_img in val_x[val_index_list[:batch_size]]:\n",
    "        PIL_image = Image.fromarray(np.uint8(temp_img)).convert('RGB')\n",
    "        x1 = preprocess(PIL_image)\n",
    "        val_batch_x.append(x1.numpy())\n",
    "        # print(type(x1.numpy()))\n",
    "\n",
    "      val_batch_y = val_y[val_index_list[:batch_size]]\n",
    "\n",
    "      val_batch_x = torch.tensor(val_batch_x)\n",
    "      val_batch_y = torch.LongTensor(val_batch_y)\n",
    "\n",
    "      if torch.cuda.is_available():\n",
    "        val_batch_x = val_batch_x.cuda()\n",
    "        val_batch_y = val_batch_y.cuda()\n",
    "    \n",
    "      resnet.eval()\n",
    "      output_val = resnet(val_batch_x.float())\n",
    "      loss_val = loss(output_val, val_batch_y)\n",
    "      val_losses.append(loss_val.item())\n",
    "      scheduler.step(loss_val.item())\n",
    "    else:\n",
    "      val_losses.append(val_losses[-1])\n",
    "\n",
    "    if(cnt%1==0):\n",
    "      acc_tmp = get_accuracy(output_val.cpu().detach().numpy(),val_batch_y.cpu().detach().numpy())\n",
    "      acc_sum_ep_val+=acc_tmp\n",
    "      val_accs.append(acc_tmp/batch_size)\n",
    "      acc_tmp = get_accuracy(output_train.cpu().detach().numpy(),train_batch_y.cpu().detach().numpy())\n",
    "      acc_sum_ep_trn+=acc_tmp\n",
    "      train_accs.append(acc_tmp/batch_size)\n",
    "\n",
    "  for param_group in optimizer.param_groups:\n",
    "        lr = param_group['lr']\n",
    "\n",
    "  if(lr<0.0000001):\n",
    "    break\n",
    "\n",
    "  print(\"Epoch #\",epochs,\"Completed\")\n",
    "  print(train_losses[-1],val_losses[-1])\n",
    "  print(acc_sum_ep_trn/len(train_x),acc_sum_ep_val/(batch_size*int(len(train_x)/batch_size)))\n",
    "  # if(epochs>=5):\n",
    "  #   inp = input()\n",
    "  #   if(inp == \"s\"):\n",
    "  #     break"
   ]
  },
  {
   "cell_type": "code",
   "execution_count": 23,
   "metadata": {
    "id": "Q-v8L7RPZyM-"
   },
   "outputs": [
    {
     "data": {
      "text/plain": [
       "<matplotlib.legend.Legend at 0x14b8ef1c9ed0>"
      ]
     },
     "execution_count": 23,
     "metadata": {},
     "output_type": "execute_result"
    },
    {
     "data": {
      "image/png": "[encoded data removed]",
      "text/plain": [
       "<Figure size 432x288 with 1 Axes>"
      ]
     },
     "metadata": {
      "needs_background": "light"
     },
     "output_type": "display_data"
    }
   ],
   "source": [
    "plt.plot(train_losses,label=\"Training Loss\")\n",
    "plt.plot(val_losses,label=\"Validation Loss\")\n",
    "plt.title(\"Loss Vs Iterations\")\n",
    "plt.legend()"
   ]
  },
  {
   "cell_type": "code",
   "execution_count": 24,
   "metadata": {
    "id": "qRtrSSUh9lV_"
   },
   "outputs": [
    {
     "data": {
      "text/plain": [
       "<matplotlib.legend.Legend at 0x14b8ef0a8b10>"
      ]
     },
     "execution_count": 24,
     "metadata": {},
     "output_type": "execute_result"
    },
    {
     "data": {
      "image/png": "[encoded data removed]",
      "text/plain": [
       "<Figure size 432x288 with 1 Axes>"
      ]
     },
     "metadata": {
      "needs_background": "light"
     },
     "output_type": "display_data"
    }
   ],
   "source": [
    "plt.plot(train_accs,label=\"Training Acc\")\n",
    "plt.plot(val_accs,label=\"Validation Acc\")\n",
    "plt.title(\"Accuracies Vs Iterations\")\n",
    "plt.legend()"
   ]
  },
  {
   "cell_type": "code",
   "execution_count": 25,
   "metadata": {
    "id": "xBLBEz3yZBc4"
   },
   "outputs": [],
   "source": [
    "# Accuracies"
   ]
  },
  {
   "cell_type": "code",
   "execution_count": null,
   "metadata": {
    "colab": {
     "base_uri": "https://localhost:8080/",
     "height": 491
    },
    "id": "xO0_8QiH5M_b",
    "outputId": "f2f8e87f-8c4d-4219-c0e9-1ece0e653a83"
   },
   "outputs": [],
   "source": []
  },
  {
   "cell_type": "code",
   "execution_count": 26,
   "metadata": {
    "colab": {
     "base_uri": "https://localhost:8080/"
    },
    "id": "FbAfJaTwWBZH",
    "outputId": "9f5cabdd-3f74-4338-c32c-498d58ce73b8"
   },
   "outputs": [
    {
     "name": "stdout",
     "output_type": "stream",
     "text": [
      "Overall Train Accuracy:  99.27916666666667\n"
     ]
    }
   ],
   "source": [
    "batch_size =50\n",
    "correct_preds=0\n",
    "resnet.eval()\n",
    "for batch_no in range(int(len(train_x)/batch_size)):\n",
    "\n",
    "    train_batch_x = []\n",
    "    \n",
    "    for temp_img in train_x[batch_size*batch_no:batch_size*(batch_no+1)]:\n",
    "      PIL_image = Image.fromarray(np.uint8(temp_img)).convert('RGB')\n",
    "      x1 = preprocess(PIL_image)\n",
    "      train_batch_x.append(x1.numpy())\n",
    "    \n",
    "    train_batch_y = train_y[batch_size*batch_no:batch_size*(batch_no+1)]\n",
    "\n",
    "    train_batch_x = torch.tensor(train_batch_x)\n",
    "    train_batch_y = torch.LongTensor(train_batch_y)\n",
    "\n",
    "    if torch.cuda.is_available():\n",
    "      train_batch_x = train_batch_x.cuda()\n",
    "      train_batch_y = train_batch_y.cuda()\n",
    "\n",
    "    output_train = resnet(train_batch_x.cuda().float())\n",
    "    correct_preds+=get_accuracy(output_train.cpu().detach().numpy(),train_batch_y.cpu().detach().numpy())\n",
    "print(\"Overall Train Accuracy: \",100*correct_preds/len(train_x))"
   ]
  },
  {
   "cell_type": "code",
   "execution_count": 27,
   "metadata": {
    "colab": {
     "base_uri": "https://localhost:8080/"
    },
    "id": "jf1c4C1QXapL",
    "outputId": "8afc6539-4424-49dd-bd00-53346f2ab4d0"
   },
   "outputs": [
    {
     "name": "stdout",
     "output_type": "stream",
     "text": [
      "Overall Val Accuracy:  94.51666666666667\n"
     ]
    }
   ],
   "source": [
    "batch_size =50\n",
    "correct_preds=0\n",
    "resnet.eval()\n",
    "for batch_no in range(int(len(val_x)/batch_size)):\n",
    "\n",
    "    val_batch_x = []\n",
    "    \n",
    "    for temp_img in val_x[batch_size*batch_no:batch_size*(batch_no+1)]:\n",
    "      PIL_image = Image.fromarray(np.uint8(temp_img)).convert('RGB')\n",
    "      x1 = preprocess(PIL_image)\n",
    "      val_batch_x.append(x1.numpy())\n",
    "    \n",
    "    val_batch_y = val_y[batch_size*batch_no:batch_size*(batch_no+1)]\n",
    "\n",
    "    val_batch_x = torch.tensor(val_batch_x)\n",
    "    val_batch_y = torch.LongTensor(val_batch_y)\n",
    "\n",
    "    if torch.cuda.is_available():\n",
    "      val_batch_x = val_batch_x.cuda()\n",
    "      val_batch_y = val_batch_y.cuda()\n",
    "\n",
    "    output_val = resnet(val_batch_x.cuda().float())\n",
    "    correct_preds+=get_accuracy(output_val.cpu().detach().numpy(),val_batch_y.cpu().detach().numpy())\n",
    "print(\"Overall Val Accuracy: \",100*correct_preds/len(val_x))"
   ]
  },
  {
   "cell_type": "code",
   "execution_count": null,
   "metadata": {
    "id": "4OFniI72ZUw1"
   },
   "outputs": [],
   "source": [
    "#saving and loading the model"
   ]
  },
  {
   "cell_type": "code",
   "execution_count": 29,
   "metadata": {
    "id": "mRN-4VHxbVBI"
   },
   "outputs": [
    {
     "name": "stderr",
     "output_type": "stream",
     "text": [
      "/home/jashn.arora/anaconda3/envs/tf-gpu-cuda/lib/python3.7/site-packages/torch/serialization.py:292: UserWarning: Couldn't retrieve source code for container of type ResNet. It won't be checked for correctness upon loading.\n",
      "  \"type \" + obj.__name__ + \". It won't be checked \"\n",
      "/home/jashn.arora/anaconda3/envs/tf-gpu-cuda/lib/python3.7/site-packages/torch/serialization.py:292: UserWarning: Couldn't retrieve source code for container of type Conv2d. It won't be checked for correctness upon loading.\n",
      "  \"type \" + obj.__name__ + \". It won't be checked \"\n",
      "/home/jashn.arora/anaconda3/envs/tf-gpu-cuda/lib/python3.7/site-packages/torch/serialization.py:292: UserWarning: Couldn't retrieve source code for container of type BatchNorm2d. It won't be checked for correctness upon loading.\n",
      "  \"type \" + obj.__name__ + \". It won't be checked \"\n",
      "/home/jashn.arora/anaconda3/envs/tf-gpu-cuda/lib/python3.7/site-packages/torch/serialization.py:292: UserWarning: Couldn't retrieve source code for container of type ReLU. It won't be checked for correctness upon loading.\n",
      "  \"type \" + obj.__name__ + \". It won't be checked \"\n",
      "/home/jashn.arora/anaconda3/envs/tf-gpu-cuda/lib/python3.7/site-packages/torch/serialization.py:292: UserWarning: Couldn't retrieve source code for container of type MaxPool2d. It won't be checked for correctness upon loading.\n",
      "  \"type \" + obj.__name__ + \". It won't be checked \"\n",
      "/home/jashn.arora/anaconda3/envs/tf-gpu-cuda/lib/python3.7/site-packages/torch/serialization.py:292: UserWarning: Couldn't retrieve source code for container of type Sequential. It won't be checked for correctness upon loading.\n",
      "  \"type \" + obj.__name__ + \". It won't be checked \"\n",
      "/home/jashn.arora/anaconda3/envs/tf-gpu-cuda/lib/python3.7/site-packages/torch/serialization.py:292: UserWarning: Couldn't retrieve source code for container of type BasicBlock. It won't be checked for correctness upon loading.\n",
      "  \"type \" + obj.__name__ + \". It won't be checked \"\n",
      "/home/jashn.arora/anaconda3/envs/tf-gpu-cuda/lib/python3.7/site-packages/torch/serialization.py:292: UserWarning: Couldn't retrieve source code for container of type AdaptiveAvgPool2d. It won't be checked for correctness upon loading.\n",
      "  \"type \" + obj.__name__ + \". It won't be checked \"\n",
      "/home/jashn.arora/anaconda3/envs/tf-gpu-cuda/lib/python3.7/site-packages/torch/serialization.py:292: UserWarning: Couldn't retrieve source code for container of type Linear. It won't be checked for correctness upon loading.\n",
      "  \"type \" + obj.__name__ + \". It won't be checked \"\n"
     ]
    }
   ],
   "source": [
    "torch.save(resnet,\"ResNet\")"
   ]
  },
  {
   "cell_type": "code",
   "execution_count": null,
   "metadata": {},
   "outputs": [],
   "source": []
  }
 ],
 "metadata": {
  "accelerator": "GPU",
  "colab": {
   "collapsed_sections": [],
   "name": "Resnet.ipynb",
   "provenance": []
  },
  "kernelspec": {
   "display_name": "Python 3",
   "language": "python",
   "name": "python3"
  }
 },
 "nbformat": 4,
 "nbformat_minor": 1
}
