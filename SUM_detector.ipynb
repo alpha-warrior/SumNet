{
  "nbformat": 4,
  "nbformat_minor": 0,
  "metadata": {
    "colab": {
      "name": "SUM_detector.ipynb",
      "provenance": []
    },
    "kernelspec": {
      "name": "python3",
      "display_name": "Python 3"
    },
    "accelerator": "GPU"
  },
  "cells": [
    {
      "cell_type": "code",
      "metadata": {
        "id": "i3xUmoLljvoE"
      },
      "source": [
        "import numpy as np\n",
        "import torch\n",
        "import torchvision\n",
        "import matplotlib.pyplot as plt\n",
        "from time import time\n",
        "from torchvision import datasets, transforms\n",
        "from torch import nn, optim\n",
        "import random"
      ],
      "execution_count": 17,
      "outputs": []
    },
    {
      "cell_type": "code",
      "metadata": {
        "colab": {
          "resources": {
            "http://localhost:8080/nbextensions/google.colab/files.js": {
              "data": "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",
              "ok": true,
              "headers": [
                [
                  "content-type",
                  "application/javascript"
                ]
              ],
              "status": 200,
              "status_text": ""
            }
          },
          "base_uri": "https://localhost:8080/",
          "height": 143
        },
        "id": "u-ao80UCn8tG",
        "outputId": "e6b2d32c-5c09-4402-9909-98f13b828aac"
      },
      "source": [
        "from google.colab import files\n",
        "uploaded = files.upload()"
      ],
      "execution_count": 2,
      "outputs": [
        {
          "output_type": "display_data",
          "data": {
            "text/html": [
              "\n",
              "     <input type=\"file\" id=\"files-70bb0219-b0a9-4bc3-bc48-3b1ff0e2a311\" name=\"files[]\" multiple disabled\n",
              "        style=\"border:none\" />\n",
              "     <output id=\"result-70bb0219-b0a9-4bc3-bc48-3b1ff0e2a311\">\n",
              "      Upload widget is only available when the cell has been executed in the\n",
              "      current browser session. Please rerun this cell to enable.\n",
              "      </output>\n",
              "      <script src=\"/nbextensions/google.colab/files.js\"></script> "
            ],
            "text/plain": [
              "<IPython.core.display.HTML object>"
            ]
          },
          "metadata": {
            "tags": []
          }
        },
        {
          "output_type": "stream",
          "text": [
            "Saving ClassifyNet to ClassifyNet\n",
            "Saving DetectNet to DetectNet\n",
            "Saving akshit_sum.zip to akshit_sum.zip\n"
          ],
          "name": "stdout"
        }
      ]
    },
    {
      "cell_type": "code",
      "metadata": {
        "id": "cUW1aGQErkjf"
      },
      "source": [
        "class DetectNet(torch.nn.Module):\n",
        "    def __init__(self):\n",
        "        super(DetectNet, self).__init__()\n",
        "        self.conv1 = torch.nn.Conv2d(1,2,3,1)\n",
        "        self.conv2 = torch.nn.Conv2d(2,4,3,1)\n",
        "        self.conv_bn_2 = torch.nn.BatchNorm2d(4)\n",
        "        self.conv3 = torch.nn.Conv2d(4,8,3,1)\n",
        "        self.conv4 = torch.nn.Conv2d(8,16,3,1)\n",
        "        self.conv_bn_4 = torch.nn.BatchNorm2d(16)\n",
        "        self.fc1 = torch.nn.Linear(256, 64)\n",
        "        self.fc2 = torch.nn.Linear(64, 1)\n",
        "\n",
        "\n",
        "\n",
        "    def forward(self,x):\n",
        "        x=self.conv1(x)\n",
        "        x=torch.nn.functional.relu(x)\n",
        "        x=self.conv2(x)\n",
        "        x=torch.nn.functional.relu(x)\n",
        "        x=torch.nn.functional.max_pool2d(x,kernel_size = [2,2],stride=[2,2])\n",
        "        x = self.conv_bn_2(x)\n",
        "        x=self.conv3(x)\n",
        "        x=torch.nn.functional.relu(x)\n",
        "        x=self.conv4(x)\n",
        "        x=torch.nn.functional.relu(x)\n",
        "        x=torch.nn.functional.max_pool2d(x,kernel_size = [2,2],stride=[2,2])\n",
        "        x = self.conv_bn_4(x)\n",
        "        x = torch.flatten(x, 1)\n",
        "        # print(\"Size\",x.shape)\n",
        "        x = self.fc1(x)\n",
        "        x = torch.nn.functional.relu(x)\n",
        "        x = self.fc2(x)\n",
        "        # output = F.log_softmax(x, dim=1)\n",
        "        return x"
      ],
      "execution_count": 18,
      "outputs": []
    },
    {
      "cell_type": "code",
      "metadata": {
        "id": "-KLFXa9rrqq6"
      },
      "source": [
        "class ClassifyNet(torch.nn.Module):\n",
        "    def __init__(self):\n",
        "        super(ClassifyNet, self).__init__()\n",
        "        self.conv1 = torch.nn.Conv2d(1,2,3,1)\n",
        "        self.conv2 = torch.nn.Conv2d(2,4,3,1)\n",
        "        self.conv_bn_2 = torch.nn.BatchNorm2d(4)\n",
        "        self.conv3 = torch.nn.Conv2d(4,8,3,1)\n",
        "        self.conv4 = torch.nn.Conv2d(8,16,3,1)\n",
        "        self.conv_bn_4 = torch.nn.BatchNorm2d(16)\n",
        "        self.conv5 = torch.nn.Conv2d(16,32,3,1)\n",
        "        self.conv6 = torch.nn.Conv2d(32,64,3,1)\n",
        "        self.conv_bn_6 = torch.nn.BatchNorm2d(64)\n",
        "        self.fc1 = torch.nn.Linear(256, 128)\n",
        "        self.fc2 = torch.nn.Linear(128, 64)\n",
        "        self.fc3 = torch.nn.Linear(64, 10)\n",
        "\n",
        "    def forward(self,x):\n",
        "        x=self.conv1(x)\n",
        "        x=torch.nn.functional.relu(x)\n",
        "        x=self.conv2(x)\n",
        "        x=torch.nn.functional.relu(x)\n",
        "        x=torch.nn.functional.max_pool2d(x,kernel_size = [2,2],stride=[2,2])\n",
        "        x = self.conv_bn_2(x)\n",
        "        x=self.conv3(x)\n",
        "        x=torch.nn.functional.relu(x)\n",
        "        x=self.conv4(x)\n",
        "        x=torch.nn.functional.relu(x)\n",
        "        # x=torch.nn.functional.max_pool2d(x,kernel_size = [2,2],stride=[2,2])\n",
        "        x = self.conv_bn_4(x)\n",
        "        x=self.conv5(x)\n",
        "        x=torch.nn.functional.relu(x)\n",
        "        x=self.conv6(x)\n",
        "        x=torch.nn.functional.relu(x)\n",
        "        x=torch.nn.functional.max_pool2d(x,kernel_size = [2,2],stride=[2,2])\n",
        "        x = self.conv_bn_6(x)\n",
        "        x = torch.flatten(x, 1)\n",
        "        # print(\"Size\",x.shape)\n",
        "        x = self.fc1(x)\n",
        "        x = torch.nn.functional.relu(x)\n",
        "        x = self.fc2(x)\n",
        "        x = torch.nn.functional.relu(x)\n",
        "        x = self.fc3(x)\n",
        "        # output = F.log_softmax(x, dim=1)\n",
        "        return x"
      ],
      "execution_count": 19,
      "outputs": []
    },
    {
      "cell_type": "code",
      "metadata": {
        "id": "xsqczLsbp1jd"
      },
      "source": [
        "detect_net = torch.load(\"DetectNet\")"
      ],
      "execution_count": 20,
      "outputs": []
    },
    {
      "cell_type": "code",
      "metadata": {
        "id": "MCTb-uPGrdE6"
      },
      "source": [
        "classify_net = torch.load(\"ClassifyNet\")"
      ],
      "execution_count": 21,
      "outputs": []
    },
    {
      "cell_type": "code",
      "metadata": {
        "id": "DqCSWeM9tr-8"
      },
      "source": [
        "# !unzip akshit_sum.zip\n",
        "data1 = np.load('akshit_sum/data0.npy')\n",
        "data2 = np.load('akshit_sum/data1.npy')\n",
        "data3 = np.load('akshit_sum/data2.npy')\n",
        "lab1 = np.load('akshit_sum/lab0.npy')\n",
        "lab2 = np.load('akshit_sum/lab1.npy')\n",
        "lab3 = np.load('akshit_sum/lab2.npy')"
      ],
      "execution_count": 22,
      "outputs": []
    },
    {
      "cell_type": "code",
      "metadata": {
        "id": "E7MHHlOxuIku"
      },
      "source": [
        "X = np.concatenate((data1,data2,data3))\n",
        "Y = np.concatenate((lab1,lab2,lab3))\n",
        "X = (X-0)/(255-0)"
      ],
      "execution_count": 23,
      "outputs": []
    },
    {
      "cell_type": "code",
      "metadata": {
        "id": "1AprJqtOuXw9"
      },
      "source": [
        "def detect_number(img):\n",
        "  stride_height = 1\n",
        "  stride_width = 1\n",
        "  pixel_width=5\n",
        "  max_is = []\n",
        "  max_vals = []\n",
        "  top_4 = []\n",
        "  for j in np.arange(0,len(img[0])-28+1,stride_width):\n",
        "    max_val=-1000\n",
        "    max_i=-1000\n",
        "    for i in np.arange(0,len(img)-28+1,stride_height):\n",
        "      # plt.imshow(img[i:i+28,j:j+28])\n",
        "      # plt.show()\n",
        "      temp = img[i:i+28,j:j+28]\n",
        "\n",
        "      temp = np.expand_dims(temp, 0)      # if numpy array\n",
        "      temp = np.expand_dims(temp, 0)      # if numpy array\n",
        "      # print(temp.shape)\n",
        "      if torch.cuda.is_available():\n",
        "        prob = (detect_net(torch.tensor(temp).cuda().float()))\n",
        "      else:\n",
        "        prob = (detect_net(torch.tensor(temp).float()))\n",
        "\n",
        "      if(prob>max_val):\n",
        "        max_val = prob.item()\n",
        "        max_i = i\n",
        "    \n",
        "    max_is.append(max_i)\n",
        "    max_vals.append(max_val)\n",
        "\n",
        "  max_is = np.array(max_is)\n",
        "  max_vals = np.array(max_vals)\n",
        "#############\n",
        "  max_i = -1000\n",
        "  max_val = -1000\n",
        "  for i in range(len(max_is)):\n",
        "    if(max_vals[i]>max_val):\n",
        "      max_i = i\n",
        "      max_val = max_vals[i]\n",
        "\n",
        "  top_4.append([max_is[max_i],np.arange(0,len(img[0])-28+1,stride_width)[max_i]])\n",
        "  max_vals[max_i] = -10000\n",
        "\n",
        "  if(max_i>=pixel_width):\n",
        "    max_vals[max_i-pixel_width:max_i] -= 10000\n",
        "  else:\n",
        "    max_vals[:max_i] -= 10000\n",
        "\n",
        "\n",
        "  if(max_i+pixel_width<len(max_is)):\n",
        "    max_vals[max_i+1:max_i+pixel_width+1] -= 10000\n",
        "  else:\n",
        "    max_vals[max_i+1:] -= 10000\n",
        "\n",
        "#############\n",
        "#############\n",
        "  max_i = -1000\n",
        "  max_val = -1000\n",
        "  for i in range(len(max_is)):\n",
        "    if(max_vals[i]>max_val):\n",
        "      max_i = i\n",
        "      max_val = max_vals[i]\n",
        "\n",
        "  top_4.append([max_is[max_i],np.arange(0,len(img[0])-28+1,stride_width)[max_i]])\n",
        "  max_vals[max_i] -= 10000\n",
        "\n",
        "  if(max_i>=pixel_width):\n",
        "    max_vals[max_i-pixel_width:max_i] -= 10000\n",
        "  else:\n",
        "    max_vals[:max_i] -= 10000\n",
        "\n",
        "\n",
        "  if(max_i+pixel_width<len(max_is)):\n",
        "    max_vals[max_i+1:max_i+pixel_width+1] -= 10000\n",
        "  else:\n",
        "    max_vals[max_i+1:] -= 10000\n",
        "\n",
        "#############\n",
        "#############\n",
        "  max_i = -1000\n",
        "  max_val = -1000\n",
        "  for i in range(len(max_is)):\n",
        "    if(max_vals[i]>max_val):\n",
        "      max_i = i\n",
        "      max_val = max_vals[i]\n",
        "\n",
        "  top_4.append([max_is[max_i],np.arange(0,len(img[0])-28+1,stride_width)[max_i]])\n",
        "  max_vals[max_i] = -10000\n",
        "\n",
        "  if(max_i>=pixel_width):\n",
        "    max_vals[max_i-pixel_width:max_i] -= 10000\n",
        "  else:\n",
        "    max_vals[:max_i] -= 10000\n",
        "\n",
        "\n",
        "  if(max_i+pixel_width<len(max_is)):\n",
        "    max_vals[max_i+1:max_i+pixel_width+1] -= 10000\n",
        "  else:\n",
        "    max_vals[max_i+1:] -= 10000\n",
        "\n",
        "#############\n",
        "#############\n",
        "  max_i = -1000\n",
        "  max_val = -1000\n",
        "  for i in range(len(max_is)):\n",
        "    if(max_vals[i]>max_val):\n",
        "      max_i = i\n",
        "      max_val = max_vals[i]\n",
        "\n",
        "  top_4.append([max_is[max_i],np.arange(0,len(img[0])-28+1,stride_width)[max_i]])\n",
        "  max_vals[max_i] = -10000\n",
        "\n",
        "  if(max_i>=pixel_width):\n",
        "    max_vals[max_i-pixel_width:max_i] -= 10000\n",
        "  else:\n",
        "    max_vals[:max_i] -= 10000\n",
        "\n",
        "\n",
        "  if(max_i+pixel_width<len(max_is)):\n",
        "    max_vals[max_i+1:max_i+pixel_width+1] -= 10000\n",
        "  else:\n",
        "    max_vals[max_i+1:] -= 10000\n",
        "\n",
        "#############\n",
        "  # print(top_4)\n",
        "  # for i in top_4:\n",
        "  #   plt.imshow(img[i[0]:i[0]+28,i[1]:i[1]+28])\n",
        "  #   plt.show()\n",
        "  return top_4\n"
      ],
      "execution_count": 108,
      "outputs": []
    },
    {
      "cell_type": "code",
      "metadata": {
        "id": "RhRuuH9FunqA"
      },
      "source": [
        "top_4 = detect_number(X[6])"
      ],
      "execution_count": 109,
      "outputs": []
    },
    {
      "cell_type": "code",
      "metadata": {
        "id": "470pOBDju5pB"
      },
      "source": [
        "def get_sum(img,top_4):\n",
        "  imgs = []\n",
        "  for i in top_4:\n",
        "    imgs.append(img[i[0]:i[0]+28,i[1]:i[1]+28])\n",
        "  imgs = np.array(imgs)\n",
        "  imgs = np.expand_dims(imgs, 1)      # if numpy array\n",
        "  imgs = torch.tensor(imgs)\n",
        "  if torch.cuda.is_available():\n",
        "    imgs = imgs.cuda()\n",
        "  \n",
        "  preds = classify_net(imgs.float()).cpu().detach().numpy()\n",
        "  sum=0\n",
        "  for pred in preds:\n",
        "    max_val = -10000\n",
        "    max_i = -10000\n",
        "    for i in range(len(pred)):\n",
        "      if max_val <pred[i]:\n",
        "        max_val = pred[i]\n",
        "        max_i = i \n",
        "        # print(i)\n",
        "    \n",
        "    sum+=max_i\n",
        "    # print(max_i)\n",
        "  return sum\n",
        "  # print(imgs.shape)"
      ],
      "execution_count": 110,
      "outputs": []
    },
    {
      "cell_type": "code",
      "metadata": {
        "colab": {
          "base_uri": "https://localhost:8080/"
        },
        "id": "XUvSueL04Ff-",
        "outputId": "24df8e86-2c8d-4f59-fa49-6c6292ef5cc2"
      },
      "source": [
        "get_sum(X[6],top_4)"
      ],
      "execution_count": 111,
      "outputs": [
        {
          "output_type": "execute_result",
          "data": {
            "text/plain": [
              "12"
            ]
          },
          "metadata": {
            "tags": []
          },
          "execution_count": 111
        }
      ]
    },
    {
      "cell_type": "code",
      "metadata": {
        "colab": {
          "base_uri": "https://localhost:8080/",
          "height": 149
        },
        "id": "BOeJUveE4Tjj",
        "outputId": "391059ab-b864-4c17-d1c4-d36d088bb1b4"
      },
      "source": [
        "plt.imshow(X[6])"
      ],
      "execution_count": 112,
      "outputs": [
        {
          "output_type": "execute_result",
          "data": {
            "text/plain": [
              "<matplotlib.image.AxesImage at 0x7f3b26595080>"
            ]
          },
          "metadata": {
            "tags": []
          },
          "execution_count": 112
        },
        {
          "output_type": "display_data",
          "data": {
            "image/png": "[encoded data removed]",
            "text/plain": [
              "<Figure size 432x288 with 1 Axes>"
            ]
          },
          "metadata": {
            "tags": [],
            "needs_background": "light"
          }
        }
      ]
    },
    {
      "cell_type": "code",
      "metadata": {
        "colab": {
          "base_uri": "https://localhost:8080/"
        },
        "id": "fqPRZkFl5s7B",
        "outputId": "cd850a56-2635-4e76-f2f2-5bc557f0b52b"
      },
      "source": [
        "accs = 0\n",
        "for i in range(1000):\n",
        "  top_4 = detect_number(X[i])\n",
        "  ans = get_sum(X[i],top_4)\n",
        "  if(ans == Y[i]):\n",
        "    accs+=1\n",
        "  if(i%100==0):\n",
        "    print(\"i=\",i)\n",
        "print(\"Accuracy:\",accs/1000)"
      ],
      "execution_count": 119,
      "outputs": [
        {
          "output_type": "stream",
          "text": [
            "i= 0\n",
            "i= 100\n",
            "i= 200\n",
            "i= 300\n",
            "i= 400\n",
            "i= 500\n",
            "i= 600\n",
            "i= 700\n",
            "i= 800\n",
            "i= 900\n",
            "Accuracy: 0.096\n"
          ],
          "name": "stdout"
        }
      ]
    },
    {
      "cell_type": "code",
      "metadata": {
        "id": "7SVqW7qH8AVH"
      },
      "source": [
        ""
      ],
      "execution_count": null,
      "outputs": []
    }
  ]
}